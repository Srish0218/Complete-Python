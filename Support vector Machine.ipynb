{
 "cells": [
  {
   "cell_type": "markdown",
   "source": [
    "Support Vector Machine (SVM) is a powerful supervised machine learning algorithm used for both classification and regression tasks. SVM is particularly effective in high-dimensional spaces and is widely used in various applications such as image classification, text classification, and bioinformatics.\n",
    "\n",
    "### Key Concepts of Support Vector Machine:\n",
    "\n",
    "1. **Linear Separation:**\n",
    "   - SVM aims to find a hyperplane that best separates the data into different classes. For a binary classification problem, the hyperplane is the decision boundary that maximizes the margin between the classes.\n",
    "\n",
    "2. **Margin:**\n",
    "   - The margin is the distance between the decision boundary and the nearest data point from each class. SVM seeks to maximize this margin.\n",
    "\n",
    "3. **Support Vectors:**\n",
    "   - Support vectors are the data points that lie closest to the decision boundary. They are crucial in determining the position and orientation of the decision boundary.\n",
    "\n",
    "4. **Kernel Trick:**\n",
    "   - SVM can use a kernel function to map the input data into a higher-dimensional space, making it possible to find a hyperplane that can separate non-linearly separable data. Common kernel functions include the linear, polynomial, radial basis function (RBF), and sigmoid kernels.\n",
    "\n",
    "### SVM for Binary Classification:\n",
    "\n",
    "Given a set of labeled training data \\( (X, y) \\), where \\( X \\) is the feature matrix and \\( y \\) is the corresponding class labels (1 or -1 for binary classification):\n",
    "\n",
    "1. **Objective Function:**\n",
    "   - SVM aims to minimize the following objective function:\n",
    "     \\[ \\frac{1}{2} \\|\\mathbf{w}\\|^2 + C \\sum_{i=1}^{n} \\max(0, 1 - y_i (\\mathbf{w} \\cdot \\mathbf{x}_i + b)) \\]\n",
    "   - Here, \\( \\mathbf{w} \\) is the weight vector, \\( \\mathbf{x}_i \\) is a training instance, \\( y_i \\) is its corresponding label, \\( b \\) is the bias term, and \\( C \\) is a regularization parameter.\n",
    "\n",
    "2. **Decision Function:**\n",
    "   - The decision function for prediction is given by \\( \\mathbf{w} \\cdot \\mathbf{x} + b \\), where \\( \\mathbf{x} \\) is a new input instance.\n",
    "\n",
    "3. **Optimization:**\n",
    "   - The optimization problem is typically solved using quadratic programming techniques.\n",
    "\n",
    "### Example Using Scikit-Learn:\n",
    "\n",
    "Here's a simple example using scikit-learn to train a linear SVM on the Iris dataset:\n",
    "\n",
    "```python\n",
    "from sklearn.datasets import load_iris\n",
    "from sklearn.model_selection import train_test_split\n",
    "from sklearn.svm import SVC\n",
    "from sklearn.metrics import accuracy_score\n",
    "\n",
    "# Load the Iris dataset\n",
    "iris = load_iris()\n",
    "X, y = iris.data, iris.target\n",
    "\n",
    "# For binary classification, consider only two classes (0 and 1)\n",
    "X_binary = X[y != 2]\n",
    "y_binary = y[y != 2]\n",
    "\n",
    "# Split the data into training and testing sets\n",
    "X_train, X_test, y_train, y_test = train_test_split(X_binary, y_binary, test_size=0.2, random_state=42)\n",
    "\n",
    "# Create a linear SVM model\n",
    "svm_model = SVC(kernel='linear')\n",
    "\n",
    "# Train the model\n",
    "svm_model.fit(X_train, y_train)\n",
    "\n",
    "# Make predictions on the test set\n",
    "y_pred = svm_model.predict(X_test)\n",
    "\n",
    "# Evaluate accuracy\n",
    "accuracy = accuracy_score(y_test, y_pred)\n",
    "print(\"Accuracy:\", accuracy)\n",
    "```\n",
    "\n",
    "In this example, the SVM model is trained on the Iris dataset, considering only two classes (0 and 1). The accuracy is then calculated to evaluate the model's performance. Note that the `SVC` class is used with a linear kernel. For non-linear data, you can explore different kernel options."
   ],
   "metadata": {
    "collapsed": false
   },
   "id": "46949242d605f1b6"
  },
  {
   "cell_type": "code",
   "execution_count": 1,
   "outputs": [],
   "source": [
    "#https://www.geeksforgeeks.org/support-vector-machine-algorithm/"
   ],
   "metadata": {
    "collapsed": false,
    "ExecuteTime": {
     "end_time": "2024-01-13T13:10:46.491623500Z",
     "start_time": "2024-01-13T13:10:46.484300700Z"
    }
   },
   "id": "113eaf0348af690d"
  },
  {
   "cell_type": "code",
   "execution_count": null,
   "outputs": [],
   "source": [],
   "metadata": {
    "collapsed": false
   },
   "id": "61985444b707e627"
  }
 ],
 "metadata": {
  "kernelspec": {
   "display_name": "Python 3",
   "language": "python",
   "name": "python3"
  },
  "language_info": {
   "codemirror_mode": {
    "name": "ipython",
    "version": 2
   },
   "file_extension": ".py",
   "mimetype": "text/x-python",
   "name": "python",
   "nbconvert_exporter": "python",
   "pygments_lexer": "ipython2",
   "version": "2.7.6"
  }
 },
 "nbformat": 4,
 "nbformat_minor": 5
}
