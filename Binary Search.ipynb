{
 "cells": [
  {
   "cell_type": "markdown",
   "source": [
    "## Binary Search\n",
    "\n",
    "Binary search has a time complexity of O(log n), making it significantly faster than linear search for large datasets. However, keep in mind that the list must be sorted for binary search to work properly."
   ],
   "metadata": {
    "collapsed": false
   },
   "id": "76c8b706ba833660"
  },
  {
   "cell_type": "markdown",
   "source": [],
   "metadata": {
    "collapsed": false
   },
   "id": "91827e9d98e8e9fb"
  },
  {
   "cell_type": "code",
   "execution_count": 5,
   "outputs": [
    {
     "name": "stdout",
     "output_type": "stream",
     "text": [
      "Element 5 found at index 4.\n"
     ]
    }
   ],
   "source": [
    "def binary_search(arr, target):\n",
    "    \"\"\"\n",
    "    Perform binary search on the given sorted list to find the target element.\n",
    "\n",
    "    Parameters:\n",
    "    - arr: Sorted list in which to search.\n",
    "    - target: Element to search for.\n",
    "\n",
    "    Returns:\n",
    "    - If the target is found, return the index of the target in the list.\n",
    "    - If the target is not found, return -1.\n",
    "    \"\"\"\n",
    "    low, high = 0, len(arr) - 1\n",
    "# start ,  end \n",
    "    while low <= high:\n",
    "        mid = low + (high - low) // 2\n",
    "        mid_element = arr[mid]\n",
    "\n",
    "        if mid_element == target:\n",
    "            return mid  # Target found, return the index\n",
    "        elif mid_element < target:\n",
    "            low = mid + 1  # Disregard the left half\n",
    "        else:\n",
    "            high = mid - 1  # Disregard the right half\n",
    "\n",
    "    return -1  # Target not found\n",
    "\n",
    "# Example usage:\n",
    "my_list = [1, 2, 3, 4, 5, 6, 7, 8, 9]\n",
    "target_element = 5\n",
    "result = binary_search(my_list, target_element)\n",
    "\n",
    "if result != -1:\n",
    "    print(f\"Element {target_element} found at index {result}.\")\n",
    "else:\n",
    "    print(f\"Element {target_element} not found in the list.\")\n"
   ],
   "metadata": {
    "collapsed": false,
    "ExecuteTime": {
     "end_time": "2023-12-27T17:03:37.696902200Z",
     "start_time": "2023-12-27T17:03:37.685221600Z"
    }
   },
   "id": "349c5835c0879279"
  },
  {
   "cell_type": "code",
   "execution_count": 6,
   "outputs": [
    {
     "name": "stdout",
     "output_type": "stream",
     "text": [
      "4\n"
     ]
    }
   ],
   "source": [
    "# Example usage:\n",
    "my_list = [int(x) for x in input(\"Elements for array: \").split()]\n",
    "target_element = int(input())\n",
    "result = binary_search(my_list, target_element)\n",
    "print(result)"
   ],
   "metadata": {
    "collapsed": false,
    "ExecuteTime": {
     "end_time": "2023-12-27T17:03:46.877677200Z",
     "start_time": "2023-12-27T17:03:40.242311200Z"
    }
   },
   "id": "69330df5ce7af55a"
  },
  {
   "cell_type": "code",
   "execution_count": null,
   "outputs": [],
   "source": [],
   "metadata": {
    "collapsed": false
   },
   "id": "b1112013a5886eb"
  }
 ],
 "metadata": {
  "kernelspec": {
   "display_name": "Python 3",
   "language": "python",
   "name": "python3"
  },
  "language_info": {
   "codemirror_mode": {
    "name": "ipython",
    "version": 2
   },
   "file_extension": ".py",
   "mimetype": "text/x-python",
   "name": "python",
   "nbconvert_exporter": "python",
   "pygments_lexer": "ipython2",
   "version": "2.7.6"
  }
 },
 "nbformat": 4,
 "nbformat_minor": 5
}
