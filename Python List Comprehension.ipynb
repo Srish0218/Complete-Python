{
 "cells": [
  {
   "cell_type": "markdown",
   "source": [],
   "metadata": {
    "collapsed": false
   },
   "id": "1f4ad741b8f234e4"
  },
  {
   "cell_type": "markdown",
   "source": [
    "List comprehension is a concise and readable way to create lists in Python. It provides a compact syntax for creating lists by specifying the elements you want to include, along with any conditions or transformations. Here's an overview of Python list comprehension:\n",
    "\n",
    "### 1. Basic List Comprehension:\n",
    "\n",
    "```python\n",
    "# Using list comprehension to create a list of squares\n",
    "squares = [x**2 for x in range(1, 6)]\n",
    "print(squares)\n",
    "```\n",
    "\n",
    "**Output:**\n",
    "```\n",
    "[1, 4, 9, 16, 25]\n",
    "```\n",
    "\n",
    "In this example, a list of squares is created using the expression `x**2` for each `x` in the range from 1 to 5.\n",
    "\n",
    "### 2. List Comprehension with Condition:\n",
    "\n",
    "```python\n",
    "# Using list comprehension with a condition to get even numbers\n",
    "even_numbers = [x for x in range(1, 11) if x % 2 == 0]\n",
    "print(even_numbers)\n",
    "```\n",
    "\n",
    "**Output:**\n",
    "```\n",
    "[2, 4, 6, 8, 10]\n",
    "```\n",
    "\n",
    "Here, a list of even numbers is created by including only those numbers for which `x % 2 == 0`.\n",
    "\n",
    "### 3. List Comprehension with Transformation:\n",
    "\n",
    "```python\n",
    "# Using list comprehension with transformation to convert strings to uppercase\n",
    "words = [\"apple\", \"banana\", \"kiwi\"]\n",
    "uppercase_words = [word.upper() for word in words]\n",
    "print(uppercase_words)\n",
    "```\n",
    "\n",
    "**Output:**\n",
    "```\n",
    "['APPLE', 'BANANA', 'KIWI']\n",
    "```\n",
    "\n",
    "In this example, a list of uppercase words is created by applying the `word.upper()` transformation to each word in the original list.\n",
    "\n",
    "### 4. Nested List Comprehension:\n",
    "\n",
    "```python\n",
    "# Using nested list comprehension to create a matrix\n",
    "matrix = [[i * j for j in range(1, 4)] for i in range(1, 4)]\n",
    "print(matrix)\n",
    "```\n",
    "\n",
    "**Output:**\n",
    "```\n",
    "[[1, 2, 3], [2, 4, 6], [3, 6, 9]]\n",
    "```\n",
    "\n",
    "Here, a nested list comprehension is used to create a matrix of multiplication tables.\n",
    "\n",
    "### 5. List Comprehension with If-Else:\n",
    "\n",
    "```python\n",
    "# Using list comprehension with if-else to categorize numbers\n",
    "categories = [\"Even\" if x % 2 == 0 else \"Odd\" for x in range(1, 6)]\n",
    "print(categories)\n",
    "```\n",
    "\n",
    "**Output:**\n",
    "```\n",
    "['Odd', 'Even', 'Odd', 'Even', 'Odd']\n",
    "```\n",
    "\n",
    "In this example, a list of categories (\"Even\" or \"Odd\") is created based on the condition `x % 2 == 0`.\n",
    "\n",
    "List comprehensions provide a concise and expressive way to create lists, and they are often preferred when the logic is straightforward. However, for more complex operations or when readability is a concern, traditional loops or functions might be more suitable."
   ],
   "metadata": {
    "collapsed": false
   },
   "id": "2636d081e291f16e"
  },
  {
   "cell_type": "code",
   "execution_count": null,
   "outputs": [],
   "source": [],
   "metadata": {
    "collapsed": false
   },
   "id": "426c1190fa8880ae"
  }
 ],
 "metadata": {
  "kernelspec": {
   "display_name": "Python 3",
   "language": "python",
   "name": "python3"
  },
  "language_info": {
   "codemirror_mode": {
    "name": "ipython",
    "version": 2
   },
   "file_extension": ".py",
   "mimetype": "text/x-python",
   "name": "python",
   "nbconvert_exporter": "python",
   "pygments_lexer": "ipython2",
   "version": "2.7.6"
  }
 },
 "nbformat": 4,
 "nbformat_minor": 5
}
