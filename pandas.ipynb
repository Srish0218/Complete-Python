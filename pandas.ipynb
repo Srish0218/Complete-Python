{
 "cells": [
  {
   "cell_type": "code",
   "execution_count": 3,
   "outputs": [],
   "source": [
    "import pandas as pd\n",
    "import numpy as np"
   ],
   "metadata": {
    "collapsed": false,
    "ExecuteTime": {
     "end_time": "2024-01-08T14:42:14.277569300Z",
     "start_time": "2024-01-08T14:42:14.270122700Z"
    }
   },
   "id": "19ba132d2e47dd19"
  },
  {
   "cell_type": "code",
   "execution_count": 4,
   "outputs": [],
   "source": [
    "df = pd.DataFrame(np.arange(0 , 20).reshape(5 , 4) , index = ['R1' , 'R2' , 'R3' , 'R4' , 'R5'] , columns= ['C1' , 'C2' , 'C3' , 'C4'])"
   ],
   "metadata": {
    "collapsed": false,
    "ExecuteTime": {
     "end_time": "2024-01-08T14:47:22.317526800Z",
     "start_time": "2024-01-08T14:47:22.300515100Z"
    }
   },
   "id": "df3397dd3917d7cb"
  },
  {
   "cell_type": "code",
   "execution_count": 6,
   "outputs": [
    {
     "data": {
      "text/plain": "    C1  C2  C3  C4\nR1   0   1   2   3\nR2   4   5   6   7\nR3   8   9  10  11\nR4  12  13  14  15\nR5  16  17  18  19",
      "text/html": "<div>\n<style scoped>\n    .dataframe tbody tr th:only-of-type {\n        vertical-align: middle;\n    }\n\n    .dataframe tbody tr th {\n        vertical-align: top;\n    }\n\n    .dataframe thead th {\n        text-align: right;\n    }\n</style>\n<table border=\"1\" class=\"dataframe\">\n  <thead>\n    <tr style=\"text-align: right;\">\n      <th></th>\n      <th>C1</th>\n      <th>C2</th>\n      <th>C3</th>\n      <th>C4</th>\n    </tr>\n  </thead>\n  <tbody>\n    <tr>\n      <th>R1</th>\n      <td>0</td>\n      <td>1</td>\n      <td>2</td>\n      <td>3</td>\n    </tr>\n    <tr>\n      <th>R2</th>\n      <td>4</td>\n      <td>5</td>\n      <td>6</td>\n      <td>7</td>\n    </tr>\n    <tr>\n      <th>R3</th>\n      <td>8</td>\n      <td>9</td>\n      <td>10</td>\n      <td>11</td>\n    </tr>\n    <tr>\n      <th>R4</th>\n      <td>12</td>\n      <td>13</td>\n      <td>14</td>\n      <td>15</td>\n    </tr>\n    <tr>\n      <th>R5</th>\n      <td>16</td>\n      <td>17</td>\n      <td>18</td>\n      <td>19</td>\n    </tr>\n  </tbody>\n</table>\n</div>"
     },
     "execution_count": 6,
     "metadata": {},
     "output_type": "execute_result"
    }
   ],
   "source": [
    "df.head()"
   ],
   "metadata": {
    "collapsed": false,
    "ExecuteTime": {
     "end_time": "2024-01-08T14:47:35.785006700Z",
     "start_time": "2024-01-08T14:47:35.764023300Z"
    }
   },
   "id": "58ba50978d822e98"
  },
  {
   "cell_type": "code",
   "execution_count": 9,
   "outputs": [],
   "source": [
    "df.to_csv('pandas1.csv')"
   ],
   "metadata": {
    "collapsed": false,
    "ExecuteTime": {
     "end_time": "2024-01-08T14:49:01.320873600Z",
     "start_time": "2024-01-08T14:49:01.309941300Z"
    }
   },
   "id": "b7dd9a7b3c84101c"
  },
  {
   "cell_type": "code",
   "execution_count": 20,
   "outputs": [
    {
     "data": {
      "text/plain": "C1    0\nC2    1\nC3    2\nC4    3\nName: R1, dtype: int32"
     },
     "execution_count": 20,
     "metadata": {},
     "output_type": "execute_result"
    }
   ],
   "source": [
    "#accessing the elements\n",
    "# .loc and .iloc\n",
    "df.loc['R1']\n",
    "# type(df.loc['R1'])"
   ],
   "metadata": {
    "collapsed": false,
    "ExecuteTime": {
     "end_time": "2024-01-08T15:33:33.192649500Z",
     "start_time": "2024-01-08T15:33:33.152831200Z"
    }
   },
   "id": "69d30c4bda3b4761"
  },
  {
   "cell_type": "code",
   "execution_count": 21,
   "outputs": [
    {
     "data": {
      "text/plain": "    C1  C2  C3  C4\nR1   0   1   2   3\nR2   4   5   6   7",
      "text/html": "<div>\n<style scoped>\n    .dataframe tbody tr th:only-of-type {\n        vertical-align: middle;\n    }\n\n    .dataframe tbody tr th {\n        vertical-align: top;\n    }\n\n    .dataframe thead th {\n        text-align: right;\n    }\n</style>\n<table border=\"1\" class=\"dataframe\">\n  <thead>\n    <tr style=\"text-align: right;\">\n      <th></th>\n      <th>C1</th>\n      <th>C2</th>\n      <th>C3</th>\n      <th>C4</th>\n    </tr>\n  </thead>\n  <tbody>\n    <tr>\n      <th>R1</th>\n      <td>0</td>\n      <td>1</td>\n      <td>2</td>\n      <td>3</td>\n    </tr>\n    <tr>\n      <th>R2</th>\n      <td>4</td>\n      <td>5</td>\n      <td>6</td>\n      <td>7</td>\n    </tr>\n  </tbody>\n</table>\n</div>"
     },
     "execution_count": 21,
     "metadata": {},
     "output_type": "execute_result"
    }
   ],
   "source": [
    "df.iloc[ :2 ,]\n",
    "# type(df.iloc[ :2 , :2])"
   ],
   "metadata": {
    "collapsed": false,
    "ExecuteTime": {
     "end_time": "2024-01-08T15:33:57.533807200Z",
     "start_time": "2024-01-08T15:33:57.512128500Z"
    }
   },
   "id": "fd8c1f54544d94fe"
  },
  {
   "cell_type": "code",
   "execution_count": 24,
   "outputs": [
    {
     "data": {
      "text/plain": "array([[ 1,  2,  3],\n       [ 5,  6,  7],\n       [ 9, 10, 11],\n       [13, 14, 15],\n       [17, 18, 19]])"
     },
     "execution_count": 24,
     "metadata": {},
     "output_type": "execute_result"
    }
   ],
   "source": [
    "df.iloc[ : , 1:].values"
   ],
   "metadata": {
    "collapsed": false,
    "ExecuteTime": {
     "end_time": "2024-01-08T15:35:40.006492300Z",
     "start_time": "2024-01-08T15:35:39.983150400Z"
    }
   },
   "id": "5d2c7f284c33ad6b"
  },
  {
   "cell_type": "code",
   "execution_count": 25,
   "outputs": [
    {
     "data": {
      "text/plain": "C1    0\nC2    0\nC3    0\nC4    0\ndtype: int64"
     },
     "execution_count": 25,
     "metadata": {},
     "output_type": "execute_result"
    }
   ],
   "source": [
    "df.isnull().sum()"
   ],
   "metadata": {
    "collapsed": false,
    "ExecuteTime": {
     "end_time": "2024-01-08T15:36:55.441017700Z",
     "start_time": "2024-01-08T15:36:55.387502Z"
    }
   },
   "id": "d82dc4ff591950bd"
  },
  {
   "cell_type": "code",
   "execution_count": 26,
   "outputs": [
    {
     "data": {
      "text/plain": "    C1  C2  C3  C4\nR1   0   1   2   3\nR2   4   5   6   7\nR3   8   9  10  11\nR4  12  13  14  15\nR5  16  17  18  19",
      "text/html": "<div>\n<style scoped>\n    .dataframe tbody tr th:only-of-type {\n        vertical-align: middle;\n    }\n\n    .dataframe tbody tr th {\n        vertical-align: top;\n    }\n\n    .dataframe thead th {\n        text-align: right;\n    }\n</style>\n<table border=\"1\" class=\"dataframe\">\n  <thead>\n    <tr style=\"text-align: right;\">\n      <th></th>\n      <th>C1</th>\n      <th>C2</th>\n      <th>C3</th>\n      <th>C4</th>\n    </tr>\n  </thead>\n  <tbody>\n    <tr>\n      <th>R1</th>\n      <td>0</td>\n      <td>1</td>\n      <td>2</td>\n      <td>3</td>\n    </tr>\n    <tr>\n      <th>R2</th>\n      <td>4</td>\n      <td>5</td>\n      <td>6</td>\n      <td>7</td>\n    </tr>\n    <tr>\n      <th>R3</th>\n      <td>8</td>\n      <td>9</td>\n      <td>10</td>\n      <td>11</td>\n    </tr>\n    <tr>\n      <th>R4</th>\n      <td>12</td>\n      <td>13</td>\n      <td>14</td>\n      <td>15</td>\n    </tr>\n    <tr>\n      <th>R5</th>\n      <td>16</td>\n      <td>17</td>\n      <td>18</td>\n      <td>19</td>\n    </tr>\n  </tbody>\n</table>\n</div>"
     },
     "execution_count": 26,
     "metadata": {},
     "output_type": "execute_result"
    }
   ],
   "source": [
    "df"
   ],
   "metadata": {
    "collapsed": false,
    "ExecuteTime": {
     "end_time": "2024-01-08T15:37:18.393307400Z",
     "start_time": "2024-01-08T15:37:18.342619800Z"
    }
   },
   "id": "9a3298f583b8f25"
  },
  {
   "cell_type": "code",
   "execution_count": 27,
   "outputs": [
    {
     "data": {
      "text/plain": "C1\n0     1\n4     1\n8     1\n12    1\n16    1\nName: count, dtype: int64"
     },
     "execution_count": 27,
     "metadata": {},
     "output_type": "execute_result"
    }
   ],
   "source": [
    "df['C1'].value_counts()"
   ],
   "metadata": {
    "collapsed": false,
    "ExecuteTime": {
     "end_time": "2024-01-08T15:37:37.912549800Z",
     "start_time": "2024-01-08T15:37:37.869412500Z"
    }
   },
   "id": "4d69eceda628cad7"
  },
  {
   "cell_type": "code",
   "execution_count": 30,
   "outputs": [
    {
     "data": {
      "text/plain": "array([ 0,  4,  8, 12, 16])"
     },
     "execution_count": 30,
     "metadata": {},
     "output_type": "execute_result"
    }
   ],
   "source": [
    "df['C1'].unique()"
   ],
   "metadata": {
    "collapsed": false,
    "ExecuteTime": {
     "end_time": "2024-01-08T15:39:04.883975100Z",
     "start_time": "2024-01-08T15:39:04.877112300Z"
    }
   },
   "id": "446a76b26f1c58da"
  },
  {
   "cell_type": "code",
   "execution_count": 31,
   "outputs": [
    {
     "data": {
      "text/plain": "R1     0\nR2     4\nR3     8\nR4    12\nR5    16\nName: C1, dtype: int32"
     },
     "execution_count": 31,
     "metadata": {},
     "output_type": "execute_result"
    }
   ],
   "source": [
    "df['C1']"
   ],
   "metadata": {
    "collapsed": false,
    "ExecuteTime": {
     "end_time": "2024-01-08T15:39:23.454785600Z",
     "start_time": "2024-01-08T15:39:23.415689800Z"
    }
   },
   "id": "99a946514c332ea"
  },
  {
   "cell_type": "code",
   "execution_count": 32,
   "outputs": [
    {
     "data": {
      "text/plain": "    C1  C2\nR1   0   1\nR2   4   5\nR3   8   9\nR4  12  13\nR5  16  17",
      "text/html": "<div>\n<style scoped>\n    .dataframe tbody tr th:only-of-type {\n        vertical-align: middle;\n    }\n\n    .dataframe tbody tr th {\n        vertical-align: top;\n    }\n\n    .dataframe thead th {\n        text-align: right;\n    }\n</style>\n<table border=\"1\" class=\"dataframe\">\n  <thead>\n    <tr style=\"text-align: right;\">\n      <th></th>\n      <th>C1</th>\n      <th>C2</th>\n    </tr>\n  </thead>\n  <tbody>\n    <tr>\n      <th>R1</th>\n      <td>0</td>\n      <td>1</td>\n    </tr>\n    <tr>\n      <th>R2</th>\n      <td>4</td>\n      <td>5</td>\n    </tr>\n    <tr>\n      <th>R3</th>\n      <td>8</td>\n      <td>9</td>\n    </tr>\n    <tr>\n      <th>R4</th>\n      <td>12</td>\n      <td>13</td>\n    </tr>\n    <tr>\n      <th>R5</th>\n      <td>16</td>\n      <td>17</td>\n    </tr>\n  </tbody>\n</table>\n</div>"
     },
     "execution_count": 32,
     "metadata": {},
     "output_type": "execute_result"
    }
   ],
   "source": [
    "df[['C1' , 'C2']]"
   ],
   "metadata": {
    "collapsed": false,
    "ExecuteTime": {
     "end_time": "2024-01-08T15:40:10.561786800Z",
     "start_time": "2024-01-08T15:40:10.547796200Z"
    }
   },
   "id": "1c74dcc1247f1f1e"
  },
  {
   "cell_type": "code",
   "execution_count": 34,
   "outputs": [],
   "source": [
    "df = pd.read_csv('mercedesbenz.csv')"
   ],
   "metadata": {
    "collapsed": false,
    "ExecuteTime": {
     "end_time": "2024-01-08T15:42:54.858936800Z",
     "start_time": "2024-01-08T15:42:54.767806500Z"
    }
   },
   "id": "de804f1f2944a6aa"
  },
  {
   "cell_type": "code",
   "execution_count": 37,
   "outputs": [
    {
     "data": {
      "text/plain": "   ID       y  X0 X1  X2 X3 X4 X5 X6 X8  ...  X375  X376  X377  X378  X379  \\\n0   0  130.81   k  v  at  a  d  u  j  o  ...     0     0     1     0     0   \n1   6   88.53   k  t  av  e  d  y  l  o  ...     1     0     0     0     0   \n2   7   76.26  az  w   n  c  d  x  j  x  ...     0     0     0     0     0   \n3   9   80.62  az  t   n  f  d  x  l  e  ...     0     0     0     0     0   \n4  13   78.02  az  v   n  f  d  h  d  n  ...     0     0     0     0     0   \n\n   X380  X382  X383  X384  X385  \n0     0     0     0     0     0  \n1     0     0     0     0     0  \n2     0     1     0     0     0  \n3     0     0     0     0     0  \n4     0     0     0     0     0  \n\n[5 rows x 378 columns]",
      "text/html": "<div>\n<style scoped>\n    .dataframe tbody tr th:only-of-type {\n        vertical-align: middle;\n    }\n\n    .dataframe tbody tr th {\n        vertical-align: top;\n    }\n\n    .dataframe thead th {\n        text-align: right;\n    }\n</style>\n<table border=\"1\" class=\"dataframe\">\n  <thead>\n    <tr style=\"text-align: right;\">\n      <th></th>\n      <th>ID</th>\n      <th>y</th>\n      <th>X0</th>\n      <th>X1</th>\n      <th>X2</th>\n      <th>X3</th>\n      <th>X4</th>\n      <th>X5</th>\n      <th>X6</th>\n      <th>X8</th>\n      <th>...</th>\n      <th>X375</th>\n      <th>X376</th>\n      <th>X377</th>\n      <th>X378</th>\n      <th>X379</th>\n      <th>X380</th>\n      <th>X382</th>\n      <th>X383</th>\n      <th>X384</th>\n      <th>X385</th>\n    </tr>\n  </thead>\n  <tbody>\n    <tr>\n      <th>0</th>\n      <td>0</td>\n      <td>130.81</td>\n      <td>k</td>\n      <td>v</td>\n      <td>at</td>\n      <td>a</td>\n      <td>d</td>\n      <td>u</td>\n      <td>j</td>\n      <td>o</td>\n      <td>...</td>\n      <td>0</td>\n      <td>0</td>\n      <td>1</td>\n      <td>0</td>\n      <td>0</td>\n      <td>0</td>\n      <td>0</td>\n      <td>0</td>\n      <td>0</td>\n      <td>0</td>\n    </tr>\n    <tr>\n      <th>1</th>\n      <td>6</td>\n      <td>88.53</td>\n      <td>k</td>\n      <td>t</td>\n      <td>av</td>\n      <td>e</td>\n      <td>d</td>\n      <td>y</td>\n      <td>l</td>\n      <td>o</td>\n      <td>...</td>\n      <td>1</td>\n      <td>0</td>\n      <td>0</td>\n      <td>0</td>\n      <td>0</td>\n      <td>0</td>\n      <td>0</td>\n      <td>0</td>\n      <td>0</td>\n      <td>0</td>\n    </tr>\n    <tr>\n      <th>2</th>\n      <td>7</td>\n      <td>76.26</td>\n      <td>az</td>\n      <td>w</td>\n      <td>n</td>\n      <td>c</td>\n      <td>d</td>\n      <td>x</td>\n      <td>j</td>\n      <td>x</td>\n      <td>...</td>\n      <td>0</td>\n      <td>0</td>\n      <td>0</td>\n      <td>0</td>\n      <td>0</td>\n      <td>0</td>\n      <td>1</td>\n      <td>0</td>\n      <td>0</td>\n      <td>0</td>\n    </tr>\n    <tr>\n      <th>3</th>\n      <td>9</td>\n      <td>80.62</td>\n      <td>az</td>\n      <td>t</td>\n      <td>n</td>\n      <td>f</td>\n      <td>d</td>\n      <td>x</td>\n      <td>l</td>\n      <td>e</td>\n      <td>...</td>\n      <td>0</td>\n      <td>0</td>\n      <td>0</td>\n      <td>0</td>\n      <td>0</td>\n      <td>0</td>\n      <td>0</td>\n      <td>0</td>\n      <td>0</td>\n      <td>0</td>\n    </tr>\n    <tr>\n      <th>4</th>\n      <td>13</td>\n      <td>78.02</td>\n      <td>az</td>\n      <td>v</td>\n      <td>n</td>\n      <td>f</td>\n      <td>d</td>\n      <td>h</td>\n      <td>d</td>\n      <td>n</td>\n      <td>...</td>\n      <td>0</td>\n      <td>0</td>\n      <td>0</td>\n      <td>0</td>\n      <td>0</td>\n      <td>0</td>\n      <td>0</td>\n      <td>0</td>\n      <td>0</td>\n      <td>0</td>\n    </tr>\n  </tbody>\n</table>\n<p>5 rows × 378 columns</p>\n</div>"
     },
     "execution_count": 37,
     "metadata": {},
     "output_type": "execute_result"
    }
   ],
   "source": [
    "df.head() "
   ],
   "metadata": {
    "collapsed": false,
    "ExecuteTime": {
     "end_time": "2024-01-08T16:52:47.132730700Z",
     "start_time": "2024-01-08T16:52:47.103233600Z"
    }
   },
   "id": "ff6d1712b3f371e3"
  },
  {
   "cell_type": "code",
   "execution_count": 38,
   "outputs": [
    {
     "data": {
      "text/plain": "<bound method DataFrame.info of         ID       y  X0 X1  X2 X3 X4  X5 X6 X8  ...  X375  X376  X377  X378  \\\n0        0  130.81   k  v  at  a  d   u  j  o  ...     0     0     1     0   \n1        6   88.53   k  t  av  e  d   y  l  o  ...     1     0     0     0   \n2        7   76.26  az  w   n  c  d   x  j  x  ...     0     0     0     0   \n3        9   80.62  az  t   n  f  d   x  l  e  ...     0     0     0     0   \n4       13   78.02  az  v   n  f  d   h  d  n  ...     0     0     0     0   \n...    ...     ...  .. ..  .. .. ..  .. .. ..  ...   ...   ...   ...   ...   \n4204  8405  107.39  ak  s  as  c  d  aa  d  q  ...     1     0     0     0   \n4205  8406  108.77   j  o   t  d  d  aa  h  h  ...     0     1     0     0   \n4206  8412  109.22  ak  v   r  a  d  aa  g  e  ...     0     0     1     0   \n4207  8415   87.48  al  r   e  f  d  aa  l  u  ...     0     0     0     0   \n4208  8417  110.85   z  r  ae  c  d  aa  g  w  ...     1     0     0     0   \n\n      X379  X380  X382  X383  X384  X385  \n0        0     0     0     0     0     0  \n1        0     0     0     0     0     0  \n2        0     0     1     0     0     0  \n3        0     0     0     0     0     0  \n4        0     0     0     0     0     0  \n...    ...   ...   ...   ...   ...   ...  \n4204     0     0     0     0     0     0  \n4205     0     0     0     0     0     0  \n4206     0     0     0     0     0     0  \n4207     0     0     0     0     0     0  \n4208     0     0     0     0     0     0  \n\n[4209 rows x 378 columns]>"
     },
     "execution_count": 38,
     "metadata": {},
     "output_type": "execute_result"
    }
   ],
   "source": [
    "df.info"
   ],
   "metadata": {
    "collapsed": false,
    "ExecuteTime": {
     "end_time": "2024-01-08T16:53:13.857984900Z",
     "start_time": "2024-01-08T16:53:13.812783300Z"
    }
   },
   "id": "9edfc94b1e4173f1"
  },
  {
   "cell_type": "code",
   "execution_count": 39,
   "outputs": [
    {
     "data": {
      "text/plain": "                ID            y          X10     X11          X12  \\\ncount  4209.000000  4209.000000  4209.000000  4209.0  4209.000000   \nmean   4205.960798   100.669318     0.013305     0.0     0.075077   \nstd    2437.608688    12.679381     0.114590     0.0     0.263547   \nmin       0.000000    72.110000     0.000000     0.0     0.000000   \n25%    2095.000000    90.820000     0.000000     0.0     0.000000   \n50%    4220.000000    99.150000     0.000000     0.0     0.000000   \n75%    6314.000000   109.010000     0.000000     0.0     0.000000   \nmax    8417.000000   265.320000     1.000000     0.0     1.000000   \n\n               X13          X14          X15          X16          X17  ...  \\\ncount  4209.000000  4209.000000  4209.000000  4209.000000  4209.000000  ...   \nmean      0.057971     0.428130     0.000475     0.002613     0.007603  ...   \nstd       0.233716     0.494867     0.021796     0.051061     0.086872  ...   \nmin       0.000000     0.000000     0.000000     0.000000     0.000000  ...   \n25%       0.000000     0.000000     0.000000     0.000000     0.000000  ...   \n50%       0.000000     0.000000     0.000000     0.000000     0.000000  ...   \n75%       0.000000     1.000000     0.000000     0.000000     0.000000  ...   \nmax       1.000000     1.000000     1.000000     1.000000     1.000000  ...   \n\n              X375         X376         X377         X378         X379  \\\ncount  4209.000000  4209.000000  4209.000000  4209.000000  4209.000000   \nmean      0.318841     0.057258     0.314802     0.020670     0.009503   \nstd       0.466082     0.232363     0.464492     0.142294     0.097033   \nmin       0.000000     0.000000     0.000000     0.000000     0.000000   \n25%       0.000000     0.000000     0.000000     0.000000     0.000000   \n50%       0.000000     0.000000     0.000000     0.000000     0.000000   \n75%       1.000000     0.000000     1.000000     0.000000     0.000000   \nmax       1.000000     1.000000     1.000000     1.000000     1.000000   \n\n              X380         X382         X383         X384         X385  \ncount  4209.000000  4209.000000  4209.000000  4209.000000  4209.000000  \nmean      0.008078     0.007603     0.001663     0.000475     0.001426  \nstd       0.089524     0.086872     0.040752     0.021796     0.037734  \nmin       0.000000     0.000000     0.000000     0.000000     0.000000  \n25%       0.000000     0.000000     0.000000     0.000000     0.000000  \n50%       0.000000     0.000000     0.000000     0.000000     0.000000  \n75%       0.000000     0.000000     0.000000     0.000000     0.000000  \nmax       1.000000     1.000000     1.000000     1.000000     1.000000  \n\n[8 rows x 370 columns]",
      "text/html": "<div>\n<style scoped>\n    .dataframe tbody tr th:only-of-type {\n        vertical-align: middle;\n    }\n\n    .dataframe tbody tr th {\n        vertical-align: top;\n    }\n\n    .dataframe thead th {\n        text-align: right;\n    }\n</style>\n<table border=\"1\" class=\"dataframe\">\n  <thead>\n    <tr style=\"text-align: right;\">\n      <th></th>\n      <th>ID</th>\n      <th>y</th>\n      <th>X10</th>\n      <th>X11</th>\n      <th>X12</th>\n      <th>X13</th>\n      <th>X14</th>\n      <th>X15</th>\n      <th>X16</th>\n      <th>X17</th>\n      <th>...</th>\n      <th>X375</th>\n      <th>X376</th>\n      <th>X377</th>\n      <th>X378</th>\n      <th>X379</th>\n      <th>X380</th>\n      <th>X382</th>\n      <th>X383</th>\n      <th>X384</th>\n      <th>X385</th>\n    </tr>\n  </thead>\n  <tbody>\n    <tr>\n      <th>count</th>\n      <td>4209.000000</td>\n      <td>4209.000000</td>\n      <td>4209.000000</td>\n      <td>4209.0</td>\n      <td>4209.000000</td>\n      <td>4209.000000</td>\n      <td>4209.000000</td>\n      <td>4209.000000</td>\n      <td>4209.000000</td>\n      <td>4209.000000</td>\n      <td>...</td>\n      <td>4209.000000</td>\n      <td>4209.000000</td>\n      <td>4209.000000</td>\n      <td>4209.000000</td>\n      <td>4209.000000</td>\n      <td>4209.000000</td>\n      <td>4209.000000</td>\n      <td>4209.000000</td>\n      <td>4209.000000</td>\n      <td>4209.000000</td>\n    </tr>\n    <tr>\n      <th>mean</th>\n      <td>4205.960798</td>\n      <td>100.669318</td>\n      <td>0.013305</td>\n      <td>0.0</td>\n      <td>0.075077</td>\n      <td>0.057971</td>\n      <td>0.428130</td>\n      <td>0.000475</td>\n      <td>0.002613</td>\n      <td>0.007603</td>\n      <td>...</td>\n      <td>0.318841</td>\n      <td>0.057258</td>\n      <td>0.314802</td>\n      <td>0.020670</td>\n      <td>0.009503</td>\n      <td>0.008078</td>\n      <td>0.007603</td>\n      <td>0.001663</td>\n      <td>0.000475</td>\n      <td>0.001426</td>\n    </tr>\n    <tr>\n      <th>std</th>\n      <td>2437.608688</td>\n      <td>12.679381</td>\n      <td>0.114590</td>\n      <td>0.0</td>\n      <td>0.263547</td>\n      <td>0.233716</td>\n      <td>0.494867</td>\n      <td>0.021796</td>\n      <td>0.051061</td>\n      <td>0.086872</td>\n      <td>...</td>\n      <td>0.466082</td>\n      <td>0.232363</td>\n      <td>0.464492</td>\n      <td>0.142294</td>\n      <td>0.097033</td>\n      <td>0.089524</td>\n      <td>0.086872</td>\n      <td>0.040752</td>\n      <td>0.021796</td>\n      <td>0.037734</td>\n    </tr>\n    <tr>\n      <th>min</th>\n      <td>0.000000</td>\n      <td>72.110000</td>\n      <td>0.000000</td>\n      <td>0.0</td>\n      <td>0.000000</td>\n      <td>0.000000</td>\n      <td>0.000000</td>\n      <td>0.000000</td>\n      <td>0.000000</td>\n      <td>0.000000</td>\n      <td>...</td>\n      <td>0.000000</td>\n      <td>0.000000</td>\n      <td>0.000000</td>\n      <td>0.000000</td>\n      <td>0.000000</td>\n      <td>0.000000</td>\n      <td>0.000000</td>\n      <td>0.000000</td>\n      <td>0.000000</td>\n      <td>0.000000</td>\n    </tr>\n    <tr>\n      <th>25%</th>\n      <td>2095.000000</td>\n      <td>90.820000</td>\n      <td>0.000000</td>\n      <td>0.0</td>\n      <td>0.000000</td>\n      <td>0.000000</td>\n      <td>0.000000</td>\n      <td>0.000000</td>\n      <td>0.000000</td>\n      <td>0.000000</td>\n      <td>...</td>\n      <td>0.000000</td>\n      <td>0.000000</td>\n      <td>0.000000</td>\n      <td>0.000000</td>\n      <td>0.000000</td>\n      <td>0.000000</td>\n      <td>0.000000</td>\n      <td>0.000000</td>\n      <td>0.000000</td>\n      <td>0.000000</td>\n    </tr>\n    <tr>\n      <th>50%</th>\n      <td>4220.000000</td>\n      <td>99.150000</td>\n      <td>0.000000</td>\n      <td>0.0</td>\n      <td>0.000000</td>\n      <td>0.000000</td>\n      <td>0.000000</td>\n      <td>0.000000</td>\n      <td>0.000000</td>\n      <td>0.000000</td>\n      <td>...</td>\n      <td>0.000000</td>\n      <td>0.000000</td>\n      <td>0.000000</td>\n      <td>0.000000</td>\n      <td>0.000000</td>\n      <td>0.000000</td>\n      <td>0.000000</td>\n      <td>0.000000</td>\n      <td>0.000000</td>\n      <td>0.000000</td>\n    </tr>\n    <tr>\n      <th>75%</th>\n      <td>6314.000000</td>\n      <td>109.010000</td>\n      <td>0.000000</td>\n      <td>0.0</td>\n      <td>0.000000</td>\n      <td>0.000000</td>\n      <td>1.000000</td>\n      <td>0.000000</td>\n      <td>0.000000</td>\n      <td>0.000000</td>\n      <td>...</td>\n      <td>1.000000</td>\n      <td>0.000000</td>\n      <td>1.000000</td>\n      <td>0.000000</td>\n      <td>0.000000</td>\n      <td>0.000000</td>\n      <td>0.000000</td>\n      <td>0.000000</td>\n      <td>0.000000</td>\n      <td>0.000000</td>\n    </tr>\n    <tr>\n      <th>max</th>\n      <td>8417.000000</td>\n      <td>265.320000</td>\n      <td>1.000000</td>\n      <td>0.0</td>\n      <td>1.000000</td>\n      <td>1.000000</td>\n      <td>1.000000</td>\n      <td>1.000000</td>\n      <td>1.000000</td>\n      <td>1.000000</td>\n      <td>...</td>\n      <td>1.000000</td>\n      <td>1.000000</td>\n      <td>1.000000</td>\n      <td>1.000000</td>\n      <td>1.000000</td>\n      <td>1.000000</td>\n      <td>1.000000</td>\n      <td>1.000000</td>\n      <td>1.000000</td>\n      <td>1.000000</td>\n    </tr>\n  </tbody>\n</table>\n<p>8 rows × 370 columns</p>\n</div>"
     },
     "execution_count": 39,
     "metadata": {},
     "output_type": "execute_result"
    }
   ],
   "source": [
    "df.describe()"
   ],
   "metadata": {
    "collapsed": false,
    "ExecuteTime": {
     "end_time": "2024-01-08T16:53:20.022340300Z",
     "start_time": "2024-01-08T16:53:19.688317500Z"
    }
   },
   "id": "8c5e7261189978b"
  },
  {
   "cell_type": "code",
   "execution_count": 42,
   "outputs": [
    {
     "data": {
      "text/plain": "X0\nz     360\nak    349\ny     324\nay    313\nt     306\nx     300\no     269\nf     227\nn     195\nw     182\nj     181\naz    175\naj    151\ns     106\nap    103\nh      75\nd      73\nal     67\nv      36\naf     35\nm      34\nai     34\ne      32\nba     27\nat     25\na      21\nax     19\naq     18\nam     18\ni      18\nu      17\naw     16\nl      16\nad     14\nau     11\nk      11\nb      11\nr      10\nas     10\nbc      6\nao      4\nc       3\naa      2\nq       2\nac      1\ng       1\nab      1\nName: count, dtype: int64"
     },
     "execution_count": 42,
     "metadata": {},
     "output_type": "execute_result"
    }
   ],
   "source": [
    "df['X0'].value_counts()"
   ],
   "metadata": {
    "collapsed": false,
    "ExecuteTime": {
     "end_time": "2024-01-08T17:03:31.130615900Z",
     "start_time": "2024-01-08T17:03:31.105438500Z"
    }
   },
   "id": "746cc527ab0dc11b"
  },
  {
   "cell_type": "code",
   "execution_count": 43,
   "outputs": [
    {
     "data": {
      "text/plain": "        ID       y  X0 X1  X2 X3 X4  X5 X6 X8  ...  X375  X376  X377  X378  \\\n0        0  130.81   k  v  at  a  d   u  j  o  ...     0     0     1     0   \n6       24  128.76  al  r   e  f  d   f  h  s  ...     0     0     0     0   \n8       27  108.67   w  s  as  e  d   f  i  h  ...     1     0     0     0   \n9       30  126.99   j  b  aq  c  d   f  a  e  ...     0     0     1     0   \n10      31  102.09   h  r   r  f  d   f  h  p  ...     0     0     0     0   \n...    ...     ...  .. ..  .. .. ..  .. .. ..  ...   ...   ...   ...   ...   \n4202  8402  123.34  ap  l   s  c  d  aa  d  r  ...     0     0     0     0   \n4204  8405  107.39  ak  s  as  c  d  aa  d  q  ...     1     0     0     0   \n4205  8406  108.77   j  o   t  d  d  aa  h  h  ...     0     1     0     0   \n4206  8412  109.22  ak  v   r  a  d  aa  g  e  ...     0     0     1     0   \n4208  8417  110.85   z  r  ae  c  d  aa  g  w  ...     1     0     0     0   \n\n      X379  X380  X382  X383  X384  X385  \n0        0     0     0     0     0     0  \n6        0     0     0     0     0     0  \n8        0     0     0     0     0     0  \n9        0     0     0     0     0     0  \n10       0     0     0     0     0     0  \n...    ...   ...   ...   ...   ...   ...  \n4202     0     0     0     0     0     0  \n4204     0     0     0     0     0     0  \n4205     0     0     0     0     0     0  \n4206     0     0     0     0     0     0  \n4208     0     0     0     0     0     0  \n\n[2004 rows x 378 columns]",
      "text/html": "<div>\n<style scoped>\n    .dataframe tbody tr th:only-of-type {\n        vertical-align: middle;\n    }\n\n    .dataframe tbody tr th {\n        vertical-align: top;\n    }\n\n    .dataframe thead th {\n        text-align: right;\n    }\n</style>\n<table border=\"1\" class=\"dataframe\">\n  <thead>\n    <tr style=\"text-align: right;\">\n      <th></th>\n      <th>ID</th>\n      <th>y</th>\n      <th>X0</th>\n      <th>X1</th>\n      <th>X2</th>\n      <th>X3</th>\n      <th>X4</th>\n      <th>X5</th>\n      <th>X6</th>\n      <th>X8</th>\n      <th>...</th>\n      <th>X375</th>\n      <th>X376</th>\n      <th>X377</th>\n      <th>X378</th>\n      <th>X379</th>\n      <th>X380</th>\n      <th>X382</th>\n      <th>X383</th>\n      <th>X384</th>\n      <th>X385</th>\n    </tr>\n  </thead>\n  <tbody>\n    <tr>\n      <th>0</th>\n      <td>0</td>\n      <td>130.81</td>\n      <td>k</td>\n      <td>v</td>\n      <td>at</td>\n      <td>a</td>\n      <td>d</td>\n      <td>u</td>\n      <td>j</td>\n      <td>o</td>\n      <td>...</td>\n      <td>0</td>\n      <td>0</td>\n      <td>1</td>\n      <td>0</td>\n      <td>0</td>\n      <td>0</td>\n      <td>0</td>\n      <td>0</td>\n      <td>0</td>\n      <td>0</td>\n    </tr>\n    <tr>\n      <th>6</th>\n      <td>24</td>\n      <td>128.76</td>\n      <td>al</td>\n      <td>r</td>\n      <td>e</td>\n      <td>f</td>\n      <td>d</td>\n      <td>f</td>\n      <td>h</td>\n      <td>s</td>\n      <td>...</td>\n      <td>0</td>\n      <td>0</td>\n      <td>0</td>\n      <td>0</td>\n      <td>0</td>\n      <td>0</td>\n      <td>0</td>\n      <td>0</td>\n      <td>0</td>\n      <td>0</td>\n    </tr>\n    <tr>\n      <th>8</th>\n      <td>27</td>\n      <td>108.67</td>\n      <td>w</td>\n      <td>s</td>\n      <td>as</td>\n      <td>e</td>\n      <td>d</td>\n      <td>f</td>\n      <td>i</td>\n      <td>h</td>\n      <td>...</td>\n      <td>1</td>\n      <td>0</td>\n      <td>0</td>\n      <td>0</td>\n      <td>0</td>\n      <td>0</td>\n      <td>0</td>\n      <td>0</td>\n      <td>0</td>\n      <td>0</td>\n    </tr>\n    <tr>\n      <th>9</th>\n      <td>30</td>\n      <td>126.99</td>\n      <td>j</td>\n      <td>b</td>\n      <td>aq</td>\n      <td>c</td>\n      <td>d</td>\n      <td>f</td>\n      <td>a</td>\n      <td>e</td>\n      <td>...</td>\n      <td>0</td>\n      <td>0</td>\n      <td>1</td>\n      <td>0</td>\n      <td>0</td>\n      <td>0</td>\n      <td>0</td>\n      <td>0</td>\n      <td>0</td>\n      <td>0</td>\n    </tr>\n    <tr>\n      <th>10</th>\n      <td>31</td>\n      <td>102.09</td>\n      <td>h</td>\n      <td>r</td>\n      <td>r</td>\n      <td>f</td>\n      <td>d</td>\n      <td>f</td>\n      <td>h</td>\n      <td>p</td>\n      <td>...</td>\n      <td>0</td>\n      <td>0</td>\n      <td>0</td>\n      <td>0</td>\n      <td>0</td>\n      <td>0</td>\n      <td>0</td>\n      <td>0</td>\n      <td>0</td>\n      <td>0</td>\n    </tr>\n    <tr>\n      <th>...</th>\n      <td>...</td>\n      <td>...</td>\n      <td>...</td>\n      <td>...</td>\n      <td>...</td>\n      <td>...</td>\n      <td>...</td>\n      <td>...</td>\n      <td>...</td>\n      <td>...</td>\n      <td>...</td>\n      <td>...</td>\n      <td>...</td>\n      <td>...</td>\n      <td>...</td>\n      <td>...</td>\n      <td>...</td>\n      <td>...</td>\n      <td>...</td>\n      <td>...</td>\n      <td>...</td>\n    </tr>\n    <tr>\n      <th>4202</th>\n      <td>8402</td>\n      <td>123.34</td>\n      <td>ap</td>\n      <td>l</td>\n      <td>s</td>\n      <td>c</td>\n      <td>d</td>\n      <td>aa</td>\n      <td>d</td>\n      <td>r</td>\n      <td>...</td>\n      <td>0</td>\n      <td>0</td>\n      <td>0</td>\n      <td>0</td>\n      <td>0</td>\n      <td>0</td>\n      <td>0</td>\n      <td>0</td>\n      <td>0</td>\n      <td>0</td>\n    </tr>\n    <tr>\n      <th>4204</th>\n      <td>8405</td>\n      <td>107.39</td>\n      <td>ak</td>\n      <td>s</td>\n      <td>as</td>\n      <td>c</td>\n      <td>d</td>\n      <td>aa</td>\n      <td>d</td>\n      <td>q</td>\n      <td>...</td>\n      <td>1</td>\n      <td>0</td>\n      <td>0</td>\n      <td>0</td>\n      <td>0</td>\n      <td>0</td>\n      <td>0</td>\n      <td>0</td>\n      <td>0</td>\n      <td>0</td>\n    </tr>\n    <tr>\n      <th>4205</th>\n      <td>8406</td>\n      <td>108.77</td>\n      <td>j</td>\n      <td>o</td>\n      <td>t</td>\n      <td>d</td>\n      <td>d</td>\n      <td>aa</td>\n      <td>h</td>\n      <td>h</td>\n      <td>...</td>\n      <td>0</td>\n      <td>1</td>\n      <td>0</td>\n      <td>0</td>\n      <td>0</td>\n      <td>0</td>\n      <td>0</td>\n      <td>0</td>\n      <td>0</td>\n      <td>0</td>\n    </tr>\n    <tr>\n      <th>4206</th>\n      <td>8412</td>\n      <td>109.22</td>\n      <td>ak</td>\n      <td>v</td>\n      <td>r</td>\n      <td>a</td>\n      <td>d</td>\n      <td>aa</td>\n      <td>g</td>\n      <td>e</td>\n      <td>...</td>\n      <td>0</td>\n      <td>0</td>\n      <td>1</td>\n      <td>0</td>\n      <td>0</td>\n      <td>0</td>\n      <td>0</td>\n      <td>0</td>\n      <td>0</td>\n      <td>0</td>\n    </tr>\n    <tr>\n      <th>4208</th>\n      <td>8417</td>\n      <td>110.85</td>\n      <td>z</td>\n      <td>r</td>\n      <td>ae</td>\n      <td>c</td>\n      <td>d</td>\n      <td>aa</td>\n      <td>g</td>\n      <td>w</td>\n      <td>...</td>\n      <td>1</td>\n      <td>0</td>\n      <td>0</td>\n      <td>0</td>\n      <td>0</td>\n      <td>0</td>\n      <td>0</td>\n      <td>0</td>\n      <td>0</td>\n      <td>0</td>\n    </tr>\n  </tbody>\n</table>\n<p>2004 rows × 378 columns</p>\n</div>"
     },
     "execution_count": 43,
     "metadata": {},
     "output_type": "execute_result"
    }
   ],
   "source": [
    "df[df['y'] > 100]"
   ],
   "metadata": {
    "collapsed": false,
    "ExecuteTime": {
     "end_time": "2024-01-08T17:04:11.664440900Z",
     "start_time": "2024-01-08T17:04:11.620863900Z"
    }
   },
   "id": "b987ab2615b3dff2"
  },
  {
   "cell_type": "code",
   "execution_count": 45,
   "outputs": [
    {
     "data": {
      "text/plain": "<bound method DataFrame.corr of         ID       y  X0 X1  X2 X3 X4  X5 X6 X8  ...  X375  X376  X377  X378  \\\n0        0  130.81   k  v  at  a  d   u  j  o  ...     0     0     1     0   \n1        6   88.53   k  t  av  e  d   y  l  o  ...     1     0     0     0   \n2        7   76.26  az  w   n  c  d   x  j  x  ...     0     0     0     0   \n3        9   80.62  az  t   n  f  d   x  l  e  ...     0     0     0     0   \n4       13   78.02  az  v   n  f  d   h  d  n  ...     0     0     0     0   \n...    ...     ...  .. ..  .. .. ..  .. .. ..  ...   ...   ...   ...   ...   \n4204  8405  107.39  ak  s  as  c  d  aa  d  q  ...     1     0     0     0   \n4205  8406  108.77   j  o   t  d  d  aa  h  h  ...     0     1     0     0   \n4206  8412  109.22  ak  v   r  a  d  aa  g  e  ...     0     0     1     0   \n4207  8415   87.48  al  r   e  f  d  aa  l  u  ...     0     0     0     0   \n4208  8417  110.85   z  r  ae  c  d  aa  g  w  ...     1     0     0     0   \n\n      X379  X380  X382  X383  X384  X385  \n0        0     0     0     0     0     0  \n1        0     0     0     0     0     0  \n2        0     0     1     0     0     0  \n3        0     0     0     0     0     0  \n4        0     0     0     0     0     0  \n...    ...   ...   ...   ...   ...   ...  \n4204     0     0     0     0     0     0  \n4205     0     0     0     0     0     0  \n4206     0     0     0     0     0     0  \n4207     0     0     0     0     0     0  \n4208     0     0     0     0     0     0  \n\n[4209 rows x 378 columns]>"
     },
     "execution_count": 45,
     "metadata": {},
     "output_type": "execute_result"
    }
   ],
   "source": [
    "df.corr"
   ],
   "metadata": {
    "collapsed": false,
    "ExecuteTime": {
     "end_time": "2024-01-08T17:04:32.588988900Z",
     "start_time": "2024-01-08T17:04:32.566783900Z"
    }
   },
   "id": "18441754dc78f292"
  },
  {
   "cell_type": "code",
   "execution_count": null,
   "outputs": [],
   "source": [],
   "metadata": {
    "collapsed": false
   },
   "id": "c2470b881815c47e"
  }
 ],
 "metadata": {
  "kernelspec": {
   "display_name": "Python 3",
   "language": "python",
   "name": "python3"
  },
  "language_info": {
   "codemirror_mode": {
    "name": "ipython",
    "version": 2
   },
   "file_extension": ".py",
   "mimetype": "text/x-python",
   "name": "python",
   "nbconvert_exporter": "python",
   "pygments_lexer": "ipython2",
   "version": "2.7.6"
  }
 },
 "nbformat": 4,
 "nbformat_minor": 5
}
