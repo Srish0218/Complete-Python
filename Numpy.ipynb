{
 "cells": [
  {
   "cell_type": "code",
   "execution_count": 1,
   "id": "initial_id",
   "metadata": {
    "collapsed": true,
    "ExecuteTime": {
     "end_time": "2024-01-08T09:20:07.168156200Z",
     "start_time": "2024-01-08T09:20:06.980510800Z"
    }
   },
   "outputs": [],
   "source": [
    "import numpy as np"
   ]
  },
  {
   "cell_type": "code",
   "execution_count": 2,
   "outputs": [],
   "source": [
    "lis = [1,2,3,4,5]\n",
    "arr = np.array(lis)"
   ],
   "metadata": {
    "collapsed": false,
    "ExecuteTime": {
     "end_time": "2024-01-08T09:20:26.111591400Z",
     "start_time": "2024-01-08T09:20:26.094082Z"
    }
   },
   "id": "e34dbd12e63c8e17"
  },
  {
   "cell_type": "code",
   "execution_count": 4,
   "outputs": [
    {
     "data": {
      "text/plain": "numpy.ndarray"
     },
     "execution_count": 4,
     "metadata": {},
     "output_type": "execute_result"
    }
   ],
   "source": [
    "type(arr)"
   ],
   "metadata": {
    "collapsed": false,
    "ExecuteTime": {
     "end_time": "2024-01-08T09:20:35.770538200Z",
     "start_time": "2024-01-08T09:20:35.759358Z"
    }
   },
   "id": "b864047744dda548"
  },
  {
   "cell_type": "code",
   "execution_count": 10,
   "outputs": [
    {
     "name": "stdout",
     "output_type": "stream",
     "text": [
      "[1 2 3 4 5]\n"
     ]
    }
   ],
   "source": [
    "print(arr)"
   ],
   "metadata": {
    "collapsed": false,
    "ExecuteTime": {
     "end_time": "2024-01-08T09:21:46.448310800Z",
     "start_time": "2024-01-08T09:21:46.443256600Z"
    }
   },
   "id": "acaecfe288e418aa"
  },
  {
   "cell_type": "code",
   "execution_count": 6,
   "outputs": [
    {
     "data": {
      "text/plain": "(5,)"
     },
     "execution_count": 6,
     "metadata": {},
     "output_type": "execute_result"
    }
   ],
   "source": [
    "arr.shape"
   ],
   "metadata": {
    "collapsed": false,
    "ExecuteTime": {
     "end_time": "2024-01-08T09:20:49.631568200Z",
     "start_time": "2024-01-08T09:20:49.622879200Z"
    }
   },
   "id": "2b61136ea5d78c6f"
  },
  {
   "cell_type": "code",
   "execution_count": 16,
   "outputs": [],
   "source": [
    "l1 = [1,2,3,4,5]\n",
    "l2 = [6,7,8,9,10]\n",
    "l3 = [11,12,13,14,15]\n",
    "arr = np.array([l1 , l2 , l3])"
   ],
   "metadata": {
    "collapsed": false,
    "ExecuteTime": {
     "end_time": "2024-01-08T09:23:38.156272Z",
     "start_time": "2024-01-08T09:23:38.150746800Z"
    }
   },
   "id": "8e5c03d33428f555"
  },
  {
   "cell_type": "code",
   "execution_count": 17,
   "outputs": [
    {
     "data": {
      "text/plain": "array([[ 1,  2,  3,  4,  5],\n       [ 6,  7,  8,  9, 10],\n       [11, 12, 13, 14, 15]])"
     },
     "execution_count": 17,
     "metadata": {},
     "output_type": "execute_result"
    }
   ],
   "source": [
    "arr"
   ],
   "metadata": {
    "collapsed": false,
    "ExecuteTime": {
     "end_time": "2024-01-08T09:23:38.402639700Z",
     "start_time": "2024-01-08T09:23:38.393940200Z"
    }
   },
   "id": "dfda0c00393323f2"
  },
  {
   "cell_type": "code",
   "execution_count": 19,
   "outputs": [
    {
     "data": {
      "text/plain": "(3, 5)"
     },
     "execution_count": 19,
     "metadata": {},
     "output_type": "execute_result"
    }
   ],
   "source": [
    "arr.shape"
   ],
   "metadata": {
    "collapsed": false,
    "ExecuteTime": {
     "end_time": "2024-01-08T09:24:08.739500700Z",
     "start_time": "2024-01-08T09:24:08.726040400Z"
    }
   },
   "id": "c876469a9b2aa93"
  },
  {
   "cell_type": "code",
   "execution_count": 23,
   "outputs": [
    {
     "data": {
      "text/plain": "array([[ 1,  2,  3],\n       [ 4,  5,  6],\n       [ 7,  8,  9],\n       [10, 11, 12],\n       [13, 14, 15]])"
     },
     "execution_count": 23,
     "metadata": {},
     "output_type": "execute_result"
    }
   ],
   "source": [
    "arr.reshape(5,3)"
   ],
   "metadata": {
    "collapsed": false,
    "ExecuteTime": {
     "end_time": "2024-01-08T09:24:52.665161500Z",
     "start_time": "2024-01-08T09:24:52.652337Z"
    }
   },
   "id": "573ce06548eef021"
  },
  {
   "cell_type": "code",
   "execution_count": 24,
   "outputs": [
    {
     "data": {
      "text/plain": "(3, 5)"
     },
     "execution_count": 24,
     "metadata": {},
     "output_type": "execute_result"
    }
   ],
   "source": [
    "arr.shape"
   ],
   "metadata": {
    "collapsed": false,
    "ExecuteTime": {
     "end_time": "2024-01-08T09:25:55.712689700Z",
     "start_time": "2024-01-08T09:25:55.692685600Z"
    }
   },
   "id": "5898b8051e1be304"
  },
  {
   "cell_type": "code",
   "execution_count": 31,
   "outputs": [
    {
     "data": {
      "text/plain": "array([[ 1,  2,  3,  4,  5],\n       [ 6,  7,  8,  9, 10],\n       [11, 12, 13, 14, 15]])"
     },
     "execution_count": 31,
     "metadata": {},
     "output_type": "execute_result"
    }
   ],
   "source": [
    "arr"
   ],
   "metadata": {
    "collapsed": false,
    "ExecuteTime": {
     "end_time": "2024-01-08T09:29:07.594774500Z",
     "start_time": "2024-01-08T09:29:07.574965300Z"
    }
   },
   "id": "e0ba2afb056b2e2a"
  },
  {
   "cell_type": "code",
   "execution_count": 34,
   "outputs": [
    {
     "data": {
      "text/plain": "array([7, 8, 9])"
     },
     "execution_count": 34,
     "metadata": {},
     "output_type": "execute_result"
    }
   ],
   "source": [
    "arr[1:,2:4]\n",
    "\n",
    "arr[1,1:4]"
   ],
   "metadata": {
    "collapsed": false,
    "ExecuteTime": {
     "end_time": "2024-01-08T09:30:31.408489600Z",
     "start_time": "2024-01-08T09:30:31.390345700Z"
    }
   },
   "id": "81eeb1f8674b2e52"
  },
  {
   "cell_type": "code",
   "execution_count": 37,
   "outputs": [
    {
     "data": {
      "text/plain": "array([0, 2, 4, 6, 8])"
     },
     "execution_count": 37,
     "metadata": {},
     "output_type": "execute_result"
    }
   ],
   "source": [
    "arr = np.arange( 0 , 10 , 2)\n",
    "arr"
   ],
   "metadata": {
    "collapsed": false,
    "ExecuteTime": {
     "end_time": "2024-01-08T09:31:34.755941600Z",
     "start_time": "2024-01-08T09:31:34.739687700Z"
    }
   },
   "id": "fcb5c2e03c19f456"
  },
  {
   "cell_type": "code",
   "execution_count": 40,
   "outputs": [
    {
     "data": {
      "text/plain": "array([ 1.        ,  1.47368421,  1.94736842,  2.42105263,  2.89473684,\n        3.36842105,  3.84210526,  4.31578947,  4.78947368,  5.26315789,\n        5.73684211,  6.21052632,  6.68421053,  7.15789474,  7.63157895,\n        8.10526316,  8.57894737,  9.05263158,  9.52631579, 10.        ])"
     },
     "execution_count": 40,
     "metadata": {},
     "output_type": "execute_result"
    }
   ],
   "source": [
    "np.linspace(1 , 10 , 20)"
   ],
   "metadata": {
    "collapsed": false,
    "ExecuteTime": {
     "end_time": "2024-01-08T09:32:32.628800Z",
     "start_time": "2024-01-08T09:32:32.614622600Z"
    }
   },
   "id": "75d15a8e213af34a"
  },
  {
   "cell_type": "code",
   "execution_count": 41,
   "outputs": [],
   "source": [
    "arr[3:] = 100"
   ],
   "metadata": {
    "collapsed": false,
    "ExecuteTime": {
     "end_time": "2024-01-08T09:54:25.368137400Z",
     "start_time": "2024-01-08T09:54:25.339923Z"
    }
   },
   "id": "be57a601adf922b"
  },
  {
   "cell_type": "code",
   "execution_count": 42,
   "outputs": [
    {
     "data": {
      "text/plain": "array([  0,   2,   4, 100, 100])"
     },
     "execution_count": 42,
     "metadata": {},
     "output_type": "execute_result"
    }
   ],
   "source": [
    "arr"
   ],
   "metadata": {
    "collapsed": false,
    "ExecuteTime": {
     "end_time": "2024-01-08T09:54:27.157370300Z",
     "start_time": "2024-01-08T09:54:27.136414400Z"
    }
   },
   "id": "32b36976dc9470d9"
  },
  {
   "cell_type": "code",
   "execution_count": 43,
   "outputs": [],
   "source": [
    "arr1 = arr"
   ],
   "metadata": {
    "collapsed": false,
    "ExecuteTime": {
     "end_time": "2024-01-08T09:54:40.394335300Z",
     "start_time": "2024-01-08T09:54:40.376604200Z"
    }
   },
   "id": "9e22d013341c35cd"
  },
  {
   "cell_type": "code",
   "execution_count": 44,
   "outputs": [
    {
     "data": {
      "text/plain": "array([  0,   2,   4, 100, 100])"
     },
     "execution_count": 44,
     "metadata": {},
     "output_type": "execute_result"
    }
   ],
   "source": [
    "arr"
   ],
   "metadata": {
    "collapsed": false,
    "ExecuteTime": {
     "end_time": "2024-01-08T09:55:05.306085500Z",
     "start_time": "2024-01-08T09:55:05.288575600Z"
    }
   },
   "id": "2005a4d9ddf2f527"
  },
  {
   "cell_type": "code",
   "execution_count": 45,
   "outputs": [],
   "source": [
    "arr1[3:] = 500"
   ],
   "metadata": {
    "collapsed": false,
    "ExecuteTime": {
     "end_time": "2024-01-08T09:55:24.177321300Z",
     "start_time": "2024-01-08T09:55:24.166217Z"
    }
   },
   "id": "bc0b3df540fe3230"
  },
  {
   "cell_type": "code",
   "execution_count": 46,
   "outputs": [
    {
     "data": {
      "text/plain": "array([  0,   2,   4, 500, 500])"
     },
     "execution_count": 46,
     "metadata": {},
     "output_type": "execute_result"
    }
   ],
   "source": [
    "arr1"
   ],
   "metadata": {
    "collapsed": false,
    "ExecuteTime": {
     "end_time": "2024-01-08T09:55:27.091153200Z",
     "start_time": "2024-01-08T09:55:27.078847400Z"
    }
   },
   "id": "286e1825e24c0019"
  },
  {
   "cell_type": "code",
   "execution_count": 47,
   "outputs": [
    {
     "data": {
      "text/plain": "array([  0,   2,   4, 500, 500])"
     },
     "execution_count": 47,
     "metadata": {},
     "output_type": "execute_result"
    }
   ],
   "source": [
    "arr"
   ],
   "metadata": {
    "collapsed": false,
    "ExecuteTime": {
     "end_time": "2024-01-08T09:55:35.970902200Z",
     "start_time": "2024-01-08T09:55:35.934839900Z"
    }
   },
   "id": "34afd3479008ebe5"
  },
  {
   "cell_type": "code",
   "execution_count": 48,
   "outputs": [],
   "source": [
    "arr2 = arr.copy()"
   ],
   "metadata": {
    "collapsed": false,
    "ExecuteTime": {
     "end_time": "2024-01-08T09:56:13.102702300Z",
     "start_time": "2024-01-08T09:56:13.090516900Z"
    }
   },
   "id": "3f7769d101d2fe23"
  },
  {
   "cell_type": "code",
   "execution_count": 49,
   "outputs": [
    {
     "name": "stdout",
     "output_type": "stream",
     "text": [
      "[  0   2   4 500 500]\n",
      "[   0    2    4 1000 1000]\n"
     ]
    }
   ],
   "source": [
    "print(arr)\n",
    "arr2[3:] = 1000\n",
    "print(arr2)"
   ],
   "metadata": {
    "collapsed": false,
    "ExecuteTime": {
     "end_time": "2024-01-08T09:56:37.176849100Z",
     "start_time": "2024-01-08T09:56:37.152718400Z"
    }
   },
   "id": "b639e2f3e283b0b3"
  },
  {
   "cell_type": "code",
   "execution_count": 52,
   "outputs": [
    {
     "data": {
      "text/plain": "array([0, 2, 4])"
     },
     "execution_count": 52,
     "metadata": {},
     "output_type": "execute_result"
    }
   ],
   "source": [
    "# exploratory data anal\n",
    "\n",
    "var = 2\n",
    "arr[arr < 10]"
   ],
   "metadata": {
    "collapsed": false,
    "ExecuteTime": {
     "end_time": "2024-01-08T09:58:41.369904200Z",
     "start_time": "2024-01-08T09:58:41.354521300Z"
    }
   },
   "id": "38caed201845f68a"
  },
  {
   "cell_type": "code",
   "execution_count": 55,
   "outputs": [
    {
     "data": {
      "text/plain": "array([1, 1, 1, 1, 1])"
     },
     "execution_count": 55,
     "metadata": {},
     "output_type": "execute_result"
    }
   ],
   "source": [
    "np.ones(5 , dtype=int)"
   ],
   "metadata": {
    "collapsed": false,
    "ExecuteTime": {
     "end_time": "2024-01-08T09:59:32.524942300Z",
     "start_time": "2024-01-08T09:59:32.511859500Z"
    }
   },
   "id": "ed86dd0573e346bf"
  },
  {
   "cell_type": "code",
   "execution_count": 59,
   "outputs": [
    {
     "data": {
      "text/plain": "array([[0.7322345 , 0.58669176, 0.60889751, 0.21399115, 0.37322841],\n       [0.37772391, 0.50250421, 0.77439283, 0.11907873, 0.23722223],\n       [0.20184587, 0.40517163, 0.71497326, 0.13695534, 0.44381917],\n       [0.10444708, 0.78253045, 0.39551683, 0.55963076, 0.45768917],\n       [0.44996319, 0.2852749 , 0.79916076, 0.61604463, 0.38473473]])"
     },
     "execution_count": 59,
     "metadata": {},
     "output_type": "execute_result"
    }
   ],
   "source": [
    "np.random.rand(5 , 5)"
   ],
   "metadata": {
    "collapsed": false,
    "ExecuteTime": {
     "end_time": "2024-01-08T10:00:22.907747400Z",
     "start_time": "2024-01-08T10:00:22.880949700Z"
    }
   },
   "id": "619ebcde162eb14c"
  },
  {
   "cell_type": "code",
   "execution_count": 60,
   "outputs": [
    {
     "data": {
      "text/plain": "array([[-0.17543204,  0.27666468, -0.42539959,  0.06003851,  1.56302251],\n       [ 0.37239816, -0.9362482 ,  0.35770288, -0.67094306,  0.88745958],\n       [-0.57085635,  1.82111951, -2.4150652 ,  1.54618871, -0.90290959],\n       [ 0.86427507, -0.42716575,  0.27594706, -1.17109983, -0.52644131],\n       [-0.83044511, -1.69478092, -0.51707177,  0.5777619 ,  0.97441553]])"
     },
     "execution_count": 60,
     "metadata": {},
     "output_type": "execute_result"
    }
   ],
   "source": [
    "np.random.randn(5 , 5)"
   ],
   "metadata": {
    "collapsed": false,
    "ExecuteTime": {
     "end_time": "2024-01-08T10:00:23.593453700Z",
     "start_time": "2024-01-08T10:00:23.580417500Z"
    }
   },
   "id": "413a4a718fc01e9e"
  },
  {
   "cell_type": "code",
   "execution_count": 67,
   "outputs": [
    {
     "data": {
      "text/plain": "array([[10, 48, 20, 13, 29],\n       [23, 37, 42,  6, 32]])"
     },
     "execution_count": 67,
     "metadata": {},
     "output_type": "execute_result"
    }
   ],
   "source": [
    "np.random.randint(5 , 50 , 10).reshape(2,5)"
   ],
   "metadata": {
    "collapsed": false,
    "ExecuteTime": {
     "end_time": "2024-01-08T10:06:51.858144800Z",
     "start_time": "2024-01-08T10:06:51.845616400Z"
    }
   },
   "id": "1fec4d9c60167611"
  },
  {
   "cell_type": "code",
   "execution_count": null,
   "outputs": [],
   "source": [],
   "metadata": {
    "collapsed": false
   },
   "id": "2e85d4b86674bcac"
  }
 ],
 "metadata": {
  "kernelspec": {
   "display_name": "Python 3",
   "language": "python",
   "name": "python3"
  },
  "language_info": {
   "codemirror_mode": {
    "name": "ipython",
    "version": 2
   },
   "file_extension": ".py",
   "mimetype": "text/x-python",
   "name": "python",
   "nbconvert_exporter": "python",
   "pygments_lexer": "ipython2",
   "version": "2.7.6"
  }
 },
 "nbformat": 4,
 "nbformat_minor": 5
}
