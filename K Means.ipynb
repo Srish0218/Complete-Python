{
 "cells": [
  {
   "cell_type": "code",
   "execution_count": 1,
   "outputs": [],
   "source": [
    "#https://www.geeksforgeeks.org/k-means-clustering-introduction/"
   ],
   "metadata": {
    "collapsed": false,
    "ExecuteTime": {
     "end_time": "2024-01-14T11:53:31.812552100Z",
     "start_time": "2024-01-14T11:53:31.802204100Z"
    }
   },
   "id": "ac69f40c96437242"
  },
  {
   "cell_type": "markdown",
   "source": [
    "# K-means clustering\n",
    "is a popular unsupervised machine learning algorithm used for partitioning a dataset into K distinct, non-overlapping subsets (clusters). Each data point belongs to the cluster with the nearest mean, and the algorithm iteratively refines the cluster assignments until convergence. The \"K\" in K-means refers to the predetermined number of clusters that the algorithm aims to find.\n",
    "\n",
    "### Steps in K-means Clustering:\n",
    "\n",
    "1. **Initialization:**\n",
    "   - Choose the number of clusters \\( K \\).\n",
    "   - Randomly initialize the centroids of the clusters. Each centroid is a point in the feature space.\n",
    "\n",
    "2. **Assignment:**\n",
    "   - Assign each data point to the cluster whose centroid is the nearest (typically using Euclidean distance).\n",
    "\n",
    "3. **Update Centroids:**\n",
    "   - Recalculate the centroids of the clusters by taking the mean of all data points assigned to each cluster.\n",
    "\n",
    "4. **Repeat:**\n",
    "   - Repeat steps 2 and 3 until convergence, i.e., until the centroids no longer change significantly or a predefined number of iterations is reached.\n",
    "\n",
    "5. **Final Result:**\n",
    "   - The algorithm converges to a set of cluster assignments, and each data point is associated with a specific cluster.\n",
    "\n",
    "### Example Using Python and Scikit-Learn:\n",
    "\n",
    "Here's a simple example of K-means clustering using the `KMeans` class from the scikit-learn library:\n",
    "\n",
    "```python\n",
    "import numpy as np\n",
    "from sklearn.cluster import KMeans\n",
    "import matplotlib.pyplot as plt\n",
    "\n",
    "# Generate synthetic data with three clusters\n",
    "np.random.seed(42)\n",
    "X = np.concatenate([np.random.normal(0, 1, (100, 2)),\n",
    "                    np.random.normal(5, 1, (100, 2)),\n",
    "                    np.random.normal(10, 1, (100, 2))])\n",
    "\n",
    "# Apply K-means clustering with K=3\n",
    "kmeans = KMeans(n_clusters=3, random_state=42)\n",
    "kmeans.fit(X)\n",
    "\n",
    "# Get cluster assignments and centroids\n",
    "labels = kmeans.labels_\n",
    "centroids = kmeans.cluster_centers_\n",
    "\n",
    "# Visualize the clusters and centroids\n",
    "plt.scatter(X[:, 0], X[:, 1], c=labels, cmap='viridis', marker='o', s=50, alpha=0.8)\n",
    "plt.scatter(centroids[:, 0], centroids[:, 1], c='red', marker='X', s=200, label='Centroids')\n",
    "plt.title('K-means Clustering')\n",
    "plt.xlabel('Feature 1')\n",
    "plt.ylabel('Feature 2')\n",
    "plt.legend()\n",
    "plt.show()\n",
    "```\n",
    "\n",
    "In this example, synthetic data is generated with three clusters. The K-means algorithm is then applied to partition the data into three clusters. The resulting clusters and centroids are visualized using a scatter plot. The color of each point represents its assigned cluster, and the red \"X\" markers indicate the centroids."
   ],
   "metadata": {
    "collapsed": false
   },
   "id": "e6fc8bb9bcac4ac4"
  },
  {
   "cell_type": "markdown",
   "source": [
    "- First, we randomly initialize k points (centroids) , called means or cluster centroids.\n",
    "- We categorize each item to its closest mean, and we update the mean’s coordinates, which are the averages of the items categorized in that cluster so far. (cal dist b/w points n centroid)\n",
    "- some clusters are formed\n",
    "- new centroids\n",
    "- cal dist again\n",
    "- new clusters\n",
    "- new centroids\n",
    "- dist\n",
    "- clusters\n",
    "\n",
    "this conti for k time iterations"
   ],
   "metadata": {
    "collapsed": false
   },
   "id": "a09f2effa07a495f"
  },
  {
   "cell_type": "code",
   "execution_count": null,
   "outputs": [],
   "source": [],
   "metadata": {
    "collapsed": false
   },
   "id": "176bcddaaecbf504"
  }
 ],
 "metadata": {
  "kernelspec": {
   "display_name": "Python 3",
   "language": "python",
   "name": "python3"
  },
  "language_info": {
   "codemirror_mode": {
    "name": "ipython",
    "version": 2
   },
   "file_extension": ".py",
   "mimetype": "text/x-python",
   "name": "python",
   "nbconvert_exporter": "python",
   "pygments_lexer": "ipython2",
   "version": "2.7.6"
  }
 },
 "nbformat": 4,
 "nbformat_minor": 5
}
