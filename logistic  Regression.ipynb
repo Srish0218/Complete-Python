{
 "cells": [
  {
   "cell_type": "markdown",
   "source": [
    "Logistic Regression is a statistical method used for binary classification problems, where the goal is to predict the probability of an instance belonging to a particular class. Despite its name, logistic regression is a classification algorithm, not a regression algorithm. It's commonly used in various fields, such as medicine, marketing, and finance, for tasks like spam detection, credit scoring, and medical diagnosis.\n",
    "\n",
    "### Key Concepts of Logistic Regression:\n",
    "\n",
    "1. **Logistic Function (Sigmoid Function):**\n",
    "   - The logistic function, also known as the sigmoid function, is the core of logistic regression. It transforms any real-valued number into a value between 0 and 1. The formula is given by:\n",
    "     \\[ \\sigma(z) = \\frac{1}{1 + e^{-z}} \\]\n",
    "   - Where \\( z \\) is the linear combination of feature values and model coefficients: \\( z = b_0 + b_1 \\cdot x_1 + b_2 \\cdot x_2 + \\ldots + b_n \\cdot x_n \\).\n",
    "\n",
    "2. **Probability Interpretation:**\n",
    "   - The output of the logistic function can be interpreted as the probability of an instance belonging to the positive class.\n",
    "\n",
    "3. **Binary Classification:**\n",
    "   - Logistic regression is well-suited for binary classification tasks, where there are two possible classes (e.g., 0 and 1, or negative and positive).\n",
    "\n",
    "4. **Decision Boundary:**\n",
    "   - The decision boundary is the threshold at which the logistic function outputs a probability of 0.5. Instances with probabilities greater than or equal to 0.5 are predicted as belonging to the positive class, while those with probabilities less than 0.5 are predicted as belonging to the negative class.\n",
    "\n",
    "### Logistic Regression Equation:\n",
    "\n",
    "The logistic regression equation for a binary classification problem is expressed as follows:\n",
    "\n",
    "\\[ P(y=1 \\mid X) = \\sigma(z) = \\frac{1}{1 + e^{-z}} \\]\n",
    "\n",
    "Where:\n",
    "- \\( P(y=1 \\mid X) \\) is the probability of the positive class given the feature values \\( X \\).\n",
    "- \\( \\sigma(z) \\) is the logistic function.\n",
    "- \\( z \\) is the linear combination of feature values and model coefficients.\n",
    "\n",
    "### Training Logistic Regression:\n",
    "\n",
    "1. **Objective Function (Log-Likelihood):**\n",
    "   - The goal during training is to maximize the likelihood of the observed labels given the input features. This is equivalent to minimizing the negative log-likelihood.\n",
    "\n",
    "2. **Gradient Descent:**\n",
    "   - Gradient descent or other optimization algorithms are used to find the optimal values for the model coefficients that minimize the objective function.\n",
    "\n",
    "### Example Using Scikit-Learn:\n",
    "\n",
    "Here's a simple example using scikit-learn to train a logistic regression model on the Iris dataset:\n",
    "\n",
    "```python\n",
    "from sklearn.datasets import load_iris\n",
    "from sklearn.model_selection import train_test_split\n",
    "from sklearn.linear_model import LogisticRegression\n",
    "from sklearn.metrics import accuracy_score\n",
    "\n",
    "# Load the Iris dataset\n",
    "iris = load_iris()\n",
    "X, y = iris.data, iris.target\n",
    "\n",
    "# For binary classification, consider only two classes (0 and 1)\n",
    "X_binary = X[y != 2]\n",
    "y_binary = y[y != 2]\n",
    "\n",
    "# Split the data into training and testing sets\n",
    "X_train, X_test, y_train, y_test = train_test_split(X_binary, y_binary, test_size=0.2, random_state=42)\n",
    "\n",
    "# Create a logistic regression model\n",
    "logistic_regression_model = LogisticRegression()\n",
    "\n",
    "# Train the model\n",
    "logistic_regression_model.fit(X_train, y_train)\n",
    "\n",
    "# Make predictions on the test set\n",
    "y_pred = logistic_regression_model.predict(X_test)\n",
    "\n",
    "# Evaluate accuracy\n",
    "accuracy = accuracy_score(y_test, y_pred)\n",
    "print(\"Accuracy:\", accuracy)\n",
    "```\n",
    "\n",
    "In this example, the logistic regression model is trained on the Iris dataset, considering only two classes (0 and 1). The accuracy is then calculated to evaluate the model's performance."
   ],
   "metadata": {
    "collapsed": false
   },
   "id": "eae514c7c7d55ff1"
  },
  {
   "cell_type": "code",
   "execution_count": null,
   "outputs": [],
   "source": [],
   "metadata": {
    "collapsed": false
   },
   "id": "e5f263d4ae9e8438"
  }
 ],
 "metadata": {
  "kernelspec": {
   "display_name": "Python 3",
   "language": "python",
   "name": "python3"
  },
  "language_info": {
   "codemirror_mode": {
    "name": "ipython",
    "version": 2
   },
   "file_extension": ".py",
   "mimetype": "text/x-python",
   "name": "python",
   "nbconvert_exporter": "python",
   "pygments_lexer": "ipython2",
   "version": "2.7.6"
  }
 },
 "nbformat": 4,
 "nbformat_minor": 5
}
