{
 "cells": [
  {
   "cell_type": "markdown",
   "source": [
    "## Bubble SOrt\n",
    "\n",
    "\n",
    "Bubble Sort is another simple sorting algorithm that repeatedly steps through the list, compares adjacent elements, and swaps them if they are in the wrong order. The pass through the list is repeated until the list is sorted\n",
    "\n",
    "Bubble Sort has a time complexity of O(n^2) in the worst and average case scenarios, where n is the number of elements in the array. While Bubble Sort is not as efficient as more advanced sorting algorithms for large datasets, it is easy to understand and implement, making it suitable for educational purposes and small datasets."
   ],
   "metadata": {
    "collapsed": false
   },
   "id": "8181e9c6cc3c4e73"
  },
  {
   "cell_type": "code",
   "execution_count": 1,
   "outputs": [
    {
     "name": "stdout",
     "output_type": "stream",
     "text": [
      "False\n"
     ]
    }
   ],
   "source": [
    "x = min(max(False, -3 , -4), 2, 7)\n",
    "\n",
    "print(x)"
   ],
   "metadata": {
    "collapsed": false,
    "ExecuteTime": {
     "end_time": "2023-12-31T13:38:21.844915200Z",
     "start_time": "2023-12-31T13:38:21.828104100Z"
    }
   },
   "id": "88abc2db621f91b1"
  },
  {
   "cell_type": "code",
   "execution_count": null,
   "outputs": [],
   "source": [],
   "metadata": {
    "collapsed": false
   },
   "id": "f256b99661eea90b"
  }
 ],
 "metadata": {
  "kernelspec": {
   "display_name": "Python 3",
   "language": "python",
   "name": "python3"
  },
  "language_info": {
   "codemirror_mode": {
    "name": "ipython",
    "version": 2
   },
   "file_extension": ".py",
   "mimetype": "text/x-python",
   "name": "python",
   "nbconvert_exporter": "python",
   "pygments_lexer": "ipython2",
   "version": "2.7.6"
  }
 },
 "nbformat": 4,
 "nbformat_minor": 5
}
