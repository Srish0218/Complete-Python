{
 "cells": [
  {
   "cell_type": "markdown",
   "source": [
    "### **Array and Lists**"
   ],
   "metadata": {
    "collapsed": false
   },
   "id": "c4d4eedabff51f2f"
  },
  {
   "cell_type": "code",
   "execution_count": 30,
   "id": "initial_id",
   "metadata": {
    "collapsed": true,
    "ExecuteTime": {
     "end_time": "2023-12-25T16:21:12.749759400Z",
     "start_time": "2023-12-25T16:21:12.739306400Z"
    }
   },
   "outputs": [],
   "source": [
    "lists = [\"Srishti\", \"Satyam\" , 2, 11 ,18]"
   ]
  },
  {
   "cell_type": "code",
   "execution_count": 31,
   "outputs": [
    {
     "data": {
      "text/plain": "['Srishti', 'Satyam', 2, 11, 18]"
     },
     "execution_count": 31,
     "metadata": {},
     "output_type": "execute_result"
    }
   ],
   "source": [
    "lists"
   ],
   "metadata": {
    "collapsed": false,
    "ExecuteTime": {
     "end_time": "2023-12-25T16:21:13.202483900Z",
     "start_time": "2023-12-25T16:21:13.182229100Z"
    }
   },
   "id": "c1d2005c9f4232d5"
  },
  {
   "cell_type": "code",
   "execution_count": 32,
   "outputs": [
    {
     "name": "stdout",
     "output_type": "stream",
     "text": [
      "Index ----------------- Element\n",
      "0     ----------------- Srishti\n",
      "1     ----------------- Satyam\n",
      "2     ----------------- 2\n",
      "3     ----------------- 11\n",
      "4     ----------------- 18\n"
     ]
    }
   ],
   "source": [
    "print(\"Index ----------------- Element\")\n",
    "for i in range(len(lists)):\n",
    "    print(i , \"    -----------------\" , lists[i] )"
   ],
   "metadata": {
    "collapsed": false,
    "ExecuteTime": {
     "end_time": "2023-12-25T16:21:13.497387200Z",
     "start_time": "2023-12-25T16:21:13.473459500Z"
    }
   },
   "id": "e1b6873b2f78796d"
  },
  {
   "cell_type": "code",
   "execution_count": 33,
   "outputs": [
    {
     "name": "stdout",
     "output_type": "stream",
     "text": [
      "Srishti\n",
      "Satyam\n",
      "2\n",
      "11\n",
      "18\n"
     ]
    }
   ],
   "source": [
    " for ele in lists:\n",
    "    print(ele)"
   ],
   "metadata": {
    "collapsed": false,
    "ExecuteTime": {
     "end_time": "2023-12-25T16:21:13.780521Z",
     "start_time": "2023-12-25T16:21:13.758926600Z"
    }
   },
   "id": "89a5a75301ec488c"
  },
  {
   "cell_type": "code",
   "execution_count": 34,
   "outputs": [
    {
     "name": "stdout",
     "output_type": "stream",
     "text": [
      "2\n",
      "11\n",
      "18\n"
     ]
    }
   ],
   "source": [
    "for i in lists[2:]:\n",
    "    print(i)"
   ],
   "metadata": {
    "collapsed": false,
    "ExecuteTime": {
     "end_time": "2023-12-25T16:21:14.013576Z",
     "start_time": "2023-12-25T16:21:14.000448500Z"
    }
   },
   "id": "bb27c122dc2868"
  },
  {
   "cell_type": "code",
   "execution_count": 35,
   "outputs": [
    {
     "name": "stdout",
     "output_type": "stream",
     "text": [
      "2\n",
      "11\n"
     ]
    }
   ],
   "source": [
    "for i in lists[2:4]:\n",
    "    print(i)"
   ],
   "metadata": {
    "collapsed": false,
    "ExecuteTime": {
     "end_time": "2023-12-25T16:21:14.238974400Z",
     "start_time": "2023-12-25T16:21:14.227056300Z"
    }
   },
   "id": "4f423c5c48dbbf89"
  },
  {
   "cell_type": "markdown",
   "source": [
    "# for titles\n",
    "## for major headings\n",
    "### for subheadings\n",
    "#### for 4th level subheadings\n",
    "\n",
    "\n",
    "\n",
    "Bold text: __string__ or **string**\n",
    "Italic text: _string_ or *string*"
   ],
   "metadata": {
    "collapsed": false
   },
   "id": "cb91701cc743791f"
  },
  {
   "cell_type": "markdown",
   "source": [
    "# for titles\n",
    "## for major headings\n",
    "### for subheadings\n",
    "#### for 4th level subheadings\n",
    "\n",
    "\n",
    "\n",
    "Bold text: __string__ or **string**\n",
    "Italic text: _string_ or *string*"
   ],
   "metadata": {
    "collapsed": false
   },
   "id": "89082e7f18e25a85"
  },
  {
   "cell_type": "code",
   "execution_count": 36,
   "outputs": [
    {
     "data": {
      "text/plain": "['Srishti', 'Satyam', 2, 11, 18]"
     },
     "execution_count": 36,
     "metadata": {},
     "output_type": "execute_result"
    }
   ],
   "source": [
    "lists"
   ],
   "metadata": {
    "collapsed": false,
    "ExecuteTime": {
     "end_time": "2023-12-25T16:21:14.870953500Z",
     "start_time": "2023-12-25T16:21:14.857132100Z"
    }
   },
   "id": "51584eb76be8c961"
  },
  {
   "cell_type": "code",
   "execution_count": 37,
   "outputs": [
    {
     "data": {
      "text/plain": "['Satyam', 2]"
     },
     "execution_count": 37,
     "metadata": {},
     "output_type": "execute_result"
    }
   ],
   "source": [
    "lists[1:3:1]"
   ],
   "metadata": {
    "collapsed": false,
    "ExecuteTime": {
     "end_time": "2023-12-25T16:21:15.100741800Z",
     "start_time": "2023-12-25T16:21:15.090238400Z"
    }
   },
   "id": "5f65596660185885"
  },
  {
   "cell_type": "code",
   "execution_count": 38,
   "outputs": [
    {
     "data": {
      "text/plain": "['Srishti', 2, 18]"
     },
     "execution_count": 38,
     "metadata": {},
     "output_type": "execute_result"
    }
   ],
   "source": [
    "lists[::2]"
   ],
   "metadata": {
    "collapsed": false,
    "ExecuteTime": {
     "end_time": "2023-12-25T16:21:15.333528100Z",
     "start_time": "2023-12-25T16:21:15.323212Z"
    }
   },
   "id": "424a503bbdcc623d"
  },
  {
   "cell_type": "markdown",
   "source": [
    "# TAKING INPUT"
   ],
   "metadata": {
    "collapsed": false
   },
   "id": "2c73d575355380aa"
  },
  {
   "cell_type": "code",
   "execution_count": 40,
   "outputs": [],
   "source": [
    "N = int(input())"
   ],
   "metadata": {
    "collapsed": false,
    "ExecuteTime": {
     "end_time": "2023-12-25T16:22:00.212995900Z",
     "start_time": "2023-12-25T16:21:58.953636Z"
    }
   },
   "id": "f8f26e59338f6249"
  },
  {
   "cell_type": "code",
   "execution_count": 25,
   "outputs": [
    {
     "data": {
      "text/plain": "5"
     },
     "execution_count": 25,
     "metadata": {},
     "output_type": "execute_result"
    }
   ],
   "source": [
    "N"
   ],
   "metadata": {
    "collapsed": false,
    "ExecuteTime": {
     "end_time": "2023-12-25T16:08:14.946081400Z",
     "start_time": "2023-12-25T16:08:14.914378900Z"
    }
   },
   "id": "930b00fa6e00bce7"
  },
  {
   "cell_type": "code",
   "execution_count": 26,
   "outputs": [],
   "source": [
    "li = []\n",
    "for i in range(N):\n",
    "    cnt = int(input())\n",
    "    li.append(cnt)"
   ],
   "metadata": {
    "collapsed": false,
    "ExecuteTime": {
     "end_time": "2023-12-25T16:09:24.975615900Z",
     "start_time": "2023-12-25T16:09:18.252711800Z"
    }
   },
   "id": "426573b6bd9cb889"
  },
  {
   "cell_type": "code",
   "execution_count": 27,
   "outputs": [
    {
     "data": {
      "text/plain": "[2, 5, 6, 8, 9]"
     },
     "execution_count": 27,
     "metadata": {},
     "output_type": "execute_result"
    }
   ],
   "source": [
    "li"
   ],
   "metadata": {
    "collapsed": false,
    "ExecuteTime": {
     "end_time": "2023-12-25T16:09:28.948332200Z",
     "start_time": "2023-12-25T16:09:28.914653100Z"
    }
   },
   "id": "e788445019f07951"
  },
  {
   "cell_type": "code",
   "execution_count": 28,
   "outputs": [
    {
     "name": "stdout",
     "output_type": "stream",
     "text": [
      "2\n",
      "5\n",
      "6\n",
      "8\n",
      "9\n"
     ]
    }
   ],
   "source": [
    "for i in li:\n",
    "    print(i)"
   ],
   "metadata": {
    "collapsed": false,
    "ExecuteTime": {
     "end_time": "2023-12-25T16:10:33.382894700Z",
     "start_time": "2023-12-25T16:10:33.342808300Z"
    }
   },
   "id": "2602184e0e9904fc"
  },
  {
   "cell_type": "markdown",
   "source": [
    "## Reverse list"
   ],
   "metadata": {
    "collapsed": false
   },
   "id": "6924e943ca235c06"
  },
  {
   "cell_type": "code",
   "execution_count": 48,
   "outputs": [
    {
     "name": "stdout",
     "output_type": "stream",
     "text": [
      "[6, 5, 4, 3, 2, 1]\n"
     ]
    }
   ],
   "source": [
    "def reverse(l):\n",
    "    for i in range(len(l)//2):\n",
    "        l[i], l[-1-i] = l[-1-i], l[i]\n",
    "\n",
    "list1 = [1, 2, 3, 4, 5, 6]\n",
    "reverse(list1)\n",
    "print(list1)\n"
   ],
   "metadata": {
    "collapsed": false,
    "ExecuteTime": {
     "end_time": "2023-12-27T12:31:48.582091300Z",
     "start_time": "2023-12-27T12:31:48.554738700Z"
    }
   },
   "id": "21bcd7df450ecc61"
  },
  {
   "cell_type": "code",
   "execution_count": 50,
   "outputs": [
    {
     "data": {
      "text/plain": "[1, 2, 3, 4, 5, 6]"
     },
     "execution_count": 50,
     "metadata": {},
     "output_type": "execute_result"
    }
   ],
   "source": [
    "list1[::-1]"
   ],
   "metadata": {
    "collapsed": false,
    "ExecuteTime": {
     "end_time": "2023-12-27T14:55:14.897675900Z",
     "start_time": "2023-12-27T14:55:14.887810700Z"
    }
   },
   "id": "2c1b1e98c2c4a1a1"
  },
  {
   "cell_type": "code",
   "execution_count": 57,
   "outputs": [
    {
     "data": {
      "text/plain": "[4, 3, 2, 1]"
     },
     "execution_count": 57,
     "metadata": {},
     "output_type": "execute_result"
    }
   ],
   "source": [
    "def reverse2(l):\n",
    "    start = 0\n",
    "    end = len(l)-1\n",
    "    while start <= end:\n",
    "        l[start] , l[end] = l[end] , l[start]\n",
    "        start += 1\n",
    "        end -= 1\n",
    "list2 = [1,2,3,4]\n",
    "reverse2(list2)\n",
    "list2"
   ],
   "metadata": {
    "collapsed": false,
    "ExecuteTime": {
     "end_time": "2023-12-27T15:02:32.221149200Z",
     "start_time": "2023-12-27T15:02:32.205857300Z"
    }
   },
   "id": "7f0834e8837ad264"
  },
  {
   "cell_type": "code",
   "execution_count": null,
   "outputs": [],
   "source": [],
   "metadata": {
    "collapsed": false
   },
   "id": "ebc31b4ded03f279"
  }
 ],
 "metadata": {
  "kernelspec": {
   "display_name": "Python 3",
   "language": "python",
   "name": "python3"
  },
  "language_info": {
   "codemirror_mode": {
    "name": "ipython",
    "version": 2
   },
   "file_extension": ".py",
   "mimetype": "text/x-python",
   "name": "python",
   "nbconvert_exporter": "python",
   "pygments_lexer": "ipython2",
   "version": "2.7.6"
  }
 },
 "nbformat": 4,
 "nbformat_minor": 5
}
