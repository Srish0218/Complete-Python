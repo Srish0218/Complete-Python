{
 "cells": [
  {
   "cell_type": "markdown",
   "source": [
    "Advanced string formatting in Python refers to using more sophisticated techniques to format strings beyond the basic string concatenation. Python provides several methods for advanced string formatting, and two popular approaches are using the `str.format()` method and using f-strings (formatted string literals).\n",
    "\n",
    "### 1. `str.format()` Method:\n",
    "\n",
    "```python\n",
    "name = \"Alice\"\n",
    "age = 30\n",
    "\n",
    "# Using str.format() for string formatting\n",
    "formatted_string = \"Hello, {}. You are {} years old.\".format(name, age)\n",
    "print(formatted_string)\n",
    "```\n",
    "\n",
    "**Output:**\n",
    "```\n",
    "Hello, Alice. You are 30 years old.\n",
    "```\n",
    "\n",
    "In this example, the `{}` placeholders are replaced with the values of `name` and `age` using the `format()` method.\n",
    "\n",
    "You can also use positional and keyword arguments with `str.format()`:\n",
    "\n",
    "```python\n",
    "name = \"Bob\"\n",
    "age = 25\n",
    "\n",
    "# Using positional and keyword arguments with str.format()\n",
    "formatted_string = \"Hello, {0}. You are {1} years old. {0}'s age is a secret: {age}\".format(name, age=age)\n",
    "print(formatted_string)\n",
    "```\n",
    "\n",
    "**Output:**\n",
    "```\n",
    "Hello, Bob. You are 25 years old. Bob's age is a secret: 25\n",
    "```\n",
    "\n",
    "### 2. f-strings (Formatted String Literals):\n",
    "\n",
    "```python\n",
    "name = \"Charlie\"\n",
    "age = 35\n",
    "\n",
    "# Using f-strings for string formatting\n",
    "formatted_string = f\"Hello, {name}. You are {age} years old.\"\n",
    "print(formatted_string)\n",
    "```\n",
    "\n",
    "**Output:**\n",
    "```\n",
    "Hello, Charlie. You are 35 years old.\n",
    "```\n",
    "\n",
    "In this example, an f-string is used with `{}` placeholders to directly embed the values of `name` and `age` into the string.\n",
    "\n",
    "You can also perform expressions inside f-strings:\n",
    "\n",
    "```python\n",
    "num1 = 10\n",
    "num2 = 20\n",
    "\n",
    "# Using f-strings with expressions\n",
    "result = f\"The sum of {num1} and {num2} is {num1 + num2}.\"\n",
    "print(result)\n",
    "```\n",
    "\n",
    "**Output:**\n",
    "```\n",
    "The sum of 10 and 20 is 30.\n",
    "```\n",
    "\n",
    "Both `str.format()` and f-strings are powerful tools for string formatting in Python. f-strings, introduced in Python 3.6, offer a more concise and readable syntax, but `str.format()` is still widely used, especially in earlier Python versions. Choose the method that suits your needs and the version of Python you are working with."
   ],
   "metadata": {
    "collapsed": false
   },
   "id": "1dd394381d20e256"
  },
  {
   "cell_type": "code",
   "execution_count": null,
   "outputs": [],
   "source": [],
   "metadata": {
    "collapsed": false
   },
   "id": "999b04f95cc7cbe5"
  }
 ],
 "metadata": {
  "kernelspec": {
   "display_name": "Python 3",
   "language": "python",
   "name": "python3"
  },
  "language_info": {
   "codemirror_mode": {
    "name": "ipython",
    "version": 2
   },
   "file_extension": ".py",
   "mimetype": "text/x-python",
   "name": "python",
   "nbconvert_exporter": "python",
   "pygments_lexer": "ipython2",
   "version": "2.7.6"
  }
 },
 "nbformat": 4,
 "nbformat_minor": 5
}
