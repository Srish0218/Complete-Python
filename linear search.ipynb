{
 "cells": [
  {
   "cell_type": "markdown",
   "source": [
    "## Linear Search\n",
    "\n",
    "Linear search has a time complexity of O(n), where n is the number of elements in the list. It is a straightforward algorithm but may not be the most efficient for large datasets compared to more advanced search algorithms like binary search on sorted lists."
   ],
   "metadata": {
    "collapsed": false
   },
   "id": "3112b7360db933fd"
  },
  {
   "cell_type": "code",
   "execution_count": 1,
   "id": "initial_id",
   "metadata": {
    "collapsed": true,
    "ExecuteTime": {
     "end_time": "2023-12-26T11:44:13.975805400Z",
     "start_time": "2023-12-26T11:44:12.986168700Z"
    }
   },
   "outputs": [],
   "source": [
    "n =int(input())"
   ]
  },
  {
   "cell_type": "code",
   "execution_count": 2,
   "outputs": [
    {
     "data": {
      "text/plain": "6"
     },
     "execution_count": 2,
     "metadata": {},
     "output_type": "execute_result"
    }
   ],
   "source": [
    "n"
   ],
   "metadata": {
    "collapsed": false,
    "ExecuteTime": {
     "end_time": "2023-12-26T11:44:18.549970800Z",
     "start_time": "2023-12-26T11:44:18.539047800Z"
    }
   },
   "id": "b981f3a7eaf41fc0"
  },
  {
   "cell_type": "code",
   "execution_count": 3,
   "outputs": [],
   "source": [
    "li = [int(x) for x in input().split()]"
   ],
   "metadata": {
    "collapsed": false,
    "ExecuteTime": {
     "end_time": "2023-12-26T11:45:10.763719500Z",
     "start_time": "2023-12-26T11:45:03.076289600Z"
    }
   },
   "id": "885f054cca3c6a66"
  },
  {
   "cell_type": "code",
   "execution_count": 4,
   "outputs": [
    {
     "data": {
      "text/plain": "[2, 4, 7, 9, 10, 13]"
     },
     "execution_count": 4,
     "metadata": {},
     "output_type": "execute_result"
    }
   ],
   "source": [
    "li"
   ],
   "metadata": {
    "collapsed": false,
    "ExecuteTime": {
     "end_time": "2023-12-26T11:45:13.259923800Z",
     "start_time": "2023-12-26T11:45:13.247282100Z"
    }
   },
   "id": "9aaefa184ae8fe08"
  },
  {
   "cell_type": "code",
   "execution_count": 10,
   "outputs": [],
   "source": [
    "key = int(input())"
   ],
   "metadata": {
    "collapsed": false,
    "ExecuteTime": {
     "end_time": "2023-12-26T11:47:54.071993800Z",
     "start_time": "2023-12-26T11:47:50.770717200Z"
    }
   },
   "id": "66ca492bd2ad76c4"
  },
  {
   "cell_type": "code",
   "execution_count": 11,
   "outputs": [
    {
     "data": {
      "text/plain": "22"
     },
     "execution_count": 11,
     "metadata": {},
     "output_type": "execute_result"
    }
   ],
   "source": [
    "key"
   ],
   "metadata": {
    "collapsed": false,
    "ExecuteTime": {
     "end_time": "2023-12-26T11:47:56.116810300Z",
     "start_time": "2023-12-26T11:47:56.111826900Z"
    }
   },
   "id": "32f200bb7943b0f5"
  },
  {
   "cell_type": "code",
   "execution_count": 12,
   "outputs": [],
   "source": [
    "isFound = False\n",
    "for i in range(len(li)):\n",
    "    if li[i] == key:\n",
    "        isFound = True\n",
    "        print(i)\n",
    "        break\n",
    "if isFound is False:\n",
    "    print(-1)"
   ],
   "metadata": {
    "collapsed": false,
    "ExecuteTime": {
     "end_time": "2023-12-26T11:47:56.640347500Z",
     "start_time": "2023-12-26T11:47:56.632565300Z"
    }
   },
   "id": "a8a389077aa1f6d6"
  },
  {
   "cell_type": "code",
   "execution_count": null,
   "outputs": [],
   "source": [],
   "metadata": {
    "collapsed": false
   },
   "id": "f527c7c8c4fd9156"
  }
 ],
 "metadata": {
  "kernelspec": {
   "display_name": "Python 3",
   "language": "python",
   "name": "python3"
  },
  "language_info": {
   "codemirror_mode": {
    "name": "ipython",
    "version": 2
   },
   "file_extension": ".py",
   "mimetype": "text/x-python",
   "name": "python",
   "nbconvert_exporter": "python",
   "pygments_lexer": "ipython2",
   "version": "2.7.6"
  }
 },
 "nbformat": 4,
 "nbformat_minor": 5
}
