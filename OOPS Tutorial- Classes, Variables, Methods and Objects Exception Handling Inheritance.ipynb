{
 "cells": [
  {
   "cell_type": "markdown",
   "source": [
    "Object-Oriented Programming (OOP) is a programming paradigm that uses objects (instances of classes) to design and organize code. In Python, classes are a fundamental part of OOP, and they encapsulate data and behavior into objects. Here's an overview of key OOP concepts in Python: class, instance variables, class variables, methods, and objects.\n",
    "\n",
    "### Class:\n",
    "\n",
    "A class is a blueprint or a template for creating objects. It defines the attributes (variables) and behaviors (methods) that the objects will have.\n",
    "\n",
    "**Example:**\n",
    "\n",
    "```python\n",
    "class Car:\n",
    "    def __init__(self, make, model):\n",
    "        self.make = make\n",
    "        self.model = model\n",
    "\n",
    "    def display_info(self):\n",
    "        print(f\"{self.make} {self.model}\")\n",
    "\n",
    "# Creating an instance of the class\n",
    "my_car = Car(\"Toyota\", \"Camry\")\n",
    "\n",
    "# Accessing instance variables and calling methods\n",
    "print(my_car.make)           # Output: Toyota\n",
    "my_car.display_info()        # Output: Toyota Camry\n",
    "```\n",
    "\n",
    "### Instance Variables:\n",
    "\n",
    "Instance variables are unique to each instance of a class. They store data that is specific to each object created from the class.\n",
    "\n",
    "**Example:**\n",
    "\n",
    "```python\n",
    "class Person:\n",
    "    def __init__(self, name, age):\n",
    "        self.name = name\n",
    "        self.age = age\n",
    "\n",
    "# Creating instances of the class\n",
    "person1 = Person(\"Alice\", 25)\n",
    "person2 = Person(\"Bob\", 30)\n",
    "\n",
    "print(person1.name)  # Output: Alice\n",
    "print(person2.age)   # Output: 30\n",
    "```\n",
    "\n",
    "### Class Variables:\n",
    "\n",
    "Class variables are shared among all instances of a class. They store data that is common to all objects created from the class.\n",
    "\n",
    "**Example:**\n",
    "\n",
    "```python\n",
    "class Circle:\n",
    "    pi = 3.14  # Class variable\n",
    "\n",
    "    def __init__(self, radius):\n",
    "        self.radius = radius\n",
    "\n",
    "    def calculate_area(self):\n",
    "        return Circle.pi * self.radius * self.radius\n",
    "\n",
    "# Creating instances of the class\n",
    "circle1 = Circle(5)\n",
    "circle2 = Circle(7)\n",
    "\n",
    "print(circle1.calculate_area())  # Output: 78.5\n",
    "print(circle2.calculate_area())  # Output: 153.86\n",
    "```\n",
    "\n",
    "### Methods:\n",
    "\n",
    "Methods are functions defined within a class. They represent the behaviors or actions that objects created from the class can perform.\n",
    "\n",
    "**Example:**\n",
    "\n",
    "```python\n",
    "class Dog:\n",
    "    def __init__(self, name, age):\n",
    "        self.name = name\n",
    "        self.age = age\n",
    "\n",
    "    def bark(self):\n",
    "        print(\"Woof!\")\n",
    "\n",
    "# Creating an instance of the class\n",
    "my_dog = Dog(\"Buddy\", 3)\n",
    "\n",
    "# Calling a method\n",
    "my_dog.bark()  # Output: Woof!\n",
    "```\n",
    "\n",
    "### Objects:\n",
    "\n",
    "An object is an instance of a class. It is a concrete entity created from the class blueprint and has its own unique state (instance variables) and behavior (methods).\n",
    "\n",
    "**Example:**\n",
    "\n",
    "```python\n",
    "class Book:\n",
    "    def __init__(self, title, author):\n",
    "        self.title = title\n",
    "        self.author = author\n",
    "\n",
    "# Creating instances of the class (objects)\n",
    "book1 = Book(\"Python Crash Course\", \"Eric Matthes\")\n",
    "book2 = Book(\"Clean Code\", \"Robert C. Martin\")\n",
    "\n",
    "print(book1.title)    # Output: Python Crash Course\n",
    "print(book2.author)   # Output: Robert C. Martin\n",
    "```\n",
    "\n",
    "Understanding these OOP concepts is crucial for building modular, maintainable, and reusable code in Python. Classes and objects provide a way to model real-world entities and interactions within a program."
   ],
   "metadata": {
    "collapsed": false
   },
   "id": "102bcff9bd2b74c4"
  },
  {
   "cell_type": "markdown",
   "source": [
    "Certainly! Below are detailed notes corresponding to the timestamps you provided for an introduction to Object-Oriented Programming (OOP) in Python:\n",
    "\n",
    "### 00:00 - Introduction:\n",
    "- OOP is a programming paradigm that uses objects to organize and structure code.\n",
    "- Objects represent real-world entities and encapsulate data and behavior.\n",
    "\n",
    "### 00:35 - What is OOPs?\n",
    "- OOPs stands for Object-Oriented Programming.\n",
    "- Key concepts: Encapsulation, Inheritance, Polymorphism, Abstraction.\n",
    "\n",
    "### 04:11 - Promotion:\n",
    "- Advertisement or promotion break.\n",
    "\n",
    "### 05:02 - OOPs - Class and Objects:\n",
    "- **Class:**\n",
    "  - A blueprint or template for creating objects.\n",
    "  - Defines attributes (variables) and behaviors (methods).\n",
    "- **Objects:**\n",
    "  - Instances of a class.\n",
    "  - Have their own state (attributes) and behavior (methods).\n",
    "\n",
    "### 11:12 - Empty Class:\n",
    "- A class with no attributes or methods.\n",
    "- Used as a starting point for defining a new class.\n",
    "\n",
    "### 16:00 - Access Modifiers:\n",
    "- Control the visibility of class members (attributes and methods).\n",
    "- Common access modifiers: Public, Private, Protected.\n",
    "\n",
    "### 22:00 - Getter && Setters:\n",
    "- **Getter:**\n",
    "  - Method to retrieve the value of a private attribute.\n",
    "- **Setter:**\n",
    "  - Method to modify the value of a private attribute.\n",
    "\n",
    "### 27:09 - BTS of Objects:\n",
    "- Behind-the-scenes discussion on how objects work.\n",
    "\n",
    "### 28:45 - Homework:\n",
    "- Assignment or exercises for practice.\n",
    "\n",
    "### 29:50 - Static vs Dynamic Allocation:\n",
    "- **Static Allocation:**\n",
    "  - Memory is allocated at compile-time.\n",
    "  - Example: Arrays.\n",
    "- **Dynamic Allocation:**\n",
    "  - Memory is allocated at runtime.\n",
    "  - Example: Pointers.\n",
    "\n",
    "### 35:14 - Constructor:\n",
    "- A special method used to initialize objects.\n",
    "- Automatically called when an object is created.\n",
    "\n",
    "### 37:31 - Default Constructor:\n",
    "- Constructor with no parameters.\n",
    "- Automatically provided by Python if not explicitly defined.\n",
    "\n",
    "### 40:50 - Parameterised Constructor:\n",
    "- Constructor with parameters to initialize attributes during object creation.\n",
    "\n",
    "### 42:00 - this keyword:\n",
    "- Refers to the instance of the class.\n",
    "- Used to distinguish between instance variables and parameters with the same name.\n",
    "\n",
    "### 49:08 - Copy Constructor:\n",
    "- Creates a new object by copying the values of another object.\n",
    "- Useful for creating a deep copy of an object.\n",
    "\n",
    "### 59:46 - Shallow and Deep Copy:\n",
    "- **Shallow Copy:**\n",
    "  - Copies the object and references to its elements.\n",
    "- **Deep Copy:**\n",
    "  - Creates a new object and recursively copies the objects it references.\n",
    "\n",
    "### 01:09:32 - Assignment Operator:\n",
    "- Used to assign the value of one object to another.\n",
    "- Invokes the copy constructor.\n",
    "\n",
    "### 01:12:04 - Destructor:\n",
    "- A special method called when an object is destroyed.\n",
    "- Used to release resources or perform cleanup.\n",
    "\n",
    "### 01:16:47 - Homework:\n",
    "- Assignment or exercises for practice.\n",
    "\n",
    "### 01:17:40 - Static Keyword:\n",
    "- Used to define class variables and methods.\n",
    "- Shared among all instances of the class.\n",
    "\n",
    "### 01:23:00 - Static Functions:\n",
    "- Functions that belong to the class, not instances.\n",
    "- Can be called using the class name.\n",
    "\n",
    "### 01:26:10 - Summary:\n",
    "- Recap of key concepts and topics covered.\n",
    "\n",
    "These notes provide a detailed overview of the topics discussed during the timestamps you provided. It's essential to practice these concepts through coding exercises to reinforce your understanding of OOP in Python."
   ],
   "metadata": {
    "collapsed": false
   },
   "id": "91b737e0f07b577c"
  },
  {
   "cell_type": "markdown",
   "source": [
    "Certainly! Here are the interview questions along with their answers:\n",
    "\n",
    "### Object-Oriented Programming (OOP):\n",
    "\n",
    "1. **What is the difference between a class variable and an instance variable in Python?**\n",
    "   - **Answer:** \n",
    "     - **Class Variable:** Shared among all instances of a class. Defined outside methods using `ClassName.variable`.\n",
    "     - **Instance Variable:** Unique to each instance. Defined within methods using `self.variable`.\n",
    "\n",
    "2. **Explain the concept of inheritance and provide an example in Python.**\n",
    "   - **Answer:**\n",
    "     - Inheritance allows a class to inherit attributes and methods from another class.\n",
    "     - Example: \n",
    "       ```python\n",
    "       class Animal:\n",
    "           def sound(self):\n",
    "               print(\"Generic animal sound\")\n",
    "\n",
    "       class Dog(Animal):\n",
    "           def sound(self):\n",
    "               print(\"Woof!\")\n",
    "\n",
    "       my_dog = Dog()\n",
    "       my_dog.sound()  # Output: Woof!\n",
    "       ```\n",
    "\n",
    "3. **How does encapsulation contribute to the principles of OOP?**\n",
    "   - **Answer:**\n",
    "     - Encapsulation involves bundling data (attributes) and methods that operate on the data within a single unit (class).\n",
    "     - It helps in data hiding and protects the integrity of the data.\n",
    "\n",
    "4. **What is polymorphism in Python? Provide an example.**\n",
    "   - **Answer:**\n",
    "     - Polymorphism allows objects of different classes to be treated as objects of a common class.\n",
    "     - Example:\n",
    "       ```python\n",
    "       class Cat:\n",
    "           def sound(self):\n",
    "               print(\"Meow!\")\n",
    "\n",
    "       class Car:\n",
    "           def sound(self):\n",
    "               print(\"Honk!\")\n",
    "\n",
    "       def make_sound(entity):\n",
    "           entity.sound()\n",
    "\n",
    "       cat_instance = Cat()\n",
    "       car_instance = Car()\n",
    "\n",
    "       make_sound(cat_instance)  # Output: Meow!\n",
    "       make_sound(car_instance)  # Output: Honk!\n",
    "       ```\n",
    "\n",
    "5. **What are getter and setter methods, and why are they used in OOP?**\n",
    "   - **Answer:**\n",
    "     - Getter methods retrieve the values of private attributes, and setter methods modify those values.\n",
    "     - They are used to implement encapsulation and control access to attributes.\n",
    "\n",
    "### Classes, Objects, and Methods:\n",
    "\n",
    "6. **Explain the concept of a constructor in Python. How is it different from other methods?**\n",
    "   - **Answer:**\n",
    "     - A constructor (`__init__`) is a special method called when an object is created. It initializes the object's attributes.\n",
    "     - Unlike other methods, the constructor is automatically invoked during object creation.\n",
    "\n",
    "7. **How do you create an empty class in Python?**\n",
    "   - **Answer:**\n",
    "     - An empty class can be created as follows:\n",
    "       ```python\n",
    "       class EmptyClass:\n",
    "           pass\n",
    "       ```\n",
    "\n",
    "8. **What is the purpose of the `__init__` method in a class?**\n",
    "   - **Answer:**\n",
    "     - The `__init__` method initializes the attributes of an object when it is created. It is called automatically.\n",
    "\n",
    "9. **How can you create an instance of a class in Python?**\n",
    "   - **Answer:**\n",
    "     - An instance is created by calling the class as if it were a function:\n",
    "       ```python\n",
    "       my_instance = MyClass()\n",
    "       ```\n",
    "\n",
    "10. **How would you define a class method in Python?**\n",
    "    - **Answer:**\n",
    "      - Class methods are defined using the `@classmethod` decorator and take the class as the first parameter:\n",
    "        ```python\n",
    "        class MyClass:\n",
    "            @classmethod\n",
    "            def class_method(cls, arg1, arg2):\n",
    "                # Method implementation\n",
    "        ```\n",
    "\n",
    "### Advanced Concepts:\n",
    "\n",
    "11. **What is the purpose of the `__del__` method in Python?**\n",
    "    - **Answer:**\n",
    "      - The `__del__` method is called when an object is about to be destroyed. It can be used for cleanup operations.\n",
    "\n",
    "12. **Explain the use of the `@staticmethod` decorator in Python.**\n",
    "    - **Answer:**\n",
    "      - The `@staticmethod` decorator is used to define static methods in a class. They don't have access to the instance or class.\n",
    "\n",
    "13. **Discuss the concept of method overloading in Python.**\n",
    "    - **Answer:**\n",
    "      - Python doesn't support traditional method overloading with multiple methods of the same name but with different signatures.\n",
    "      - Overloading is achieved through default values or variable-length arguments.\n",
    "\n",
    "### Data Structures:\n",
    "\n",
    "14. **Compare and contrast lists and tuples in Python.**\n",
    "    - **Answer:**\n",
    "      - **Lists:** Mutable, denoted by square brackets (`[]`), can be modified.\n",
    "      - **Tuples:** Immutable, denoted by parentheses (`()`), cannot be modified.\n",
    "\n",
    "15. **What is a dictionary in Python? How is it different from a set?**\n",
    "    - **Answer:**\n",
    "      - **Dictionary:** Unordered collection of key-value pairs. Accessed using keys.\n",
    "      - **Set:** Unordered collection of unique elements.\n",
    "\n",
    "16. **Explain the concept of a set in Python.**\n",
    "    - **Answer:**\n",
    "      - A set is an unordered collection of unique elements. It is defined using curly braces (`{}`).\n",
    "\n",
    "### Memory Management:\n",
    "\n",
    "17. **How does Python handle memory management, and what is the role of the garbage collector?**\n",
    "    - **Answer:**\n",
    "      - Python uses automatic memory management with a garbage collector to reclaim memory occupied by objects no longer in use.\n",
    "\n",
    "### Python Basics:\n",
    "\n",
    "18. **What is the purpose of the `if __name__ == \"__main__\":` statement in Python scripts?**\n",
    "    - **Answer:**\n",
    "      - It checks whether the Python script is being run as the main program or if it is being imported as a module.\n",
    "\n",
    "19. **Explain the difference between `==` and `is` in Python.**\n",
    "    - **Answer:**\n",
    "      - `==` is used for value equality, while `is` is used for identity equality (checking if two objects refer to the same memory location).\n",
    "\n",
    "20. **What is the Global Interpreter Lock (GIL) in Python, and how does it impact multi-threaded programs?**\n",
    "    - **Answer:**\n",
    "      - The GIL is a mechanism that allows only one thread to execute Python bytecode at a time in a single process.\n",
    "      - It can impact the performance of multi-threaded programs, as only one thread can execute Python bytecode at a time.\n",
    "\n",
    "These questions and answers cover a broad range of topics related to OOP, classes, objects, methods, advanced concepts, data structures, and memory management in Python. They can serve as a valuable resource for preparing for Python interviews."
   ],
   "metadata": {
    "collapsed": false
   },
   "id": "d5316d834ad997ac"
  },
  {
   "cell_type": "markdown",
   "source": [
    "In Python, a constructor is a special method within a class that is automatically called when an object of the class is created. It is used to initialize the object's attributes or perform any setup actions required for the object. The constructor method is named `__init__` (double underscore before and after \"init\").\n",
    "\n",
    "### Constructor Example:\n",
    "\n",
    "```python\n",
    "class Car:\n",
    "    def __init__(self, make, model, year):\n",
    "        self.make = make\n",
    "        self.model = model\n",
    "        self.year = year\n",
    "        self.is_running = False\n",
    "\n",
    "    def start_engine(self):\n",
    "        print(f\"{self.year} {self.make} {self.model}'s engine started.\")\n",
    "        self.is_running = True\n",
    "\n",
    "# Creating an instance of the class (object) with the constructor\n",
    "my_car = Car(make=\"Toyota\", model=\"Camry\", year=2022)\n",
    "\n",
    "# Accessing attributes\n",
    "print(my_car.make)    # Output: Toyota\n",
    "print(my_car.year)    # Output: 2022\n",
    "\n",
    "# Calling a method\n",
    "my_car.start_engine()  # Output: 2022 Toyota Camry's engine started.\n",
    "print(my_car.is_running)  # Output: True\n",
    "```\n",
    "\n",
    "In the example above, the `__init__` method is the constructor for the `Car` class. It takes parameters (`make`, `model`, `year`) and initializes the corresponding instance variables (`self.make`, `self.model`, `self.year`). The `is_running` attribute is also initialized.\n",
    "\n",
    "When an object of the `Car` class is created (`my_car`), the `__init__` method is automatically called, and the attributes are set based on the provided values. This allows you to perform any necessary setup when creating an instance of the class.\n",
    "\n",
    "### Constructor Parameters:\n",
    "\n",
    "- The `self` parameter refers to the instance of the class itself and is required in every method, including the constructor.\n",
    "- Additional parameters can be added to the constructor to accept values that will be used to initialize the object's attributes.\n",
    "\n",
    "```python\n",
    "class MyClass:\n",
    "    def __init__(self, param1, param2):\n",
    "        self.attribute1 = param1\n",
    "        self.attribute2 = param2\n",
    "\n",
    "# Creating an instance with constructor parameters\n",
    "my_instance = MyClass(param1_value, param2_value)\n",
    "```\n",
    "\n",
    "The use of a constructor is fundamental in creating well-structured and reusable classes in Python. It helps ensure that objects are properly initialized and ready to use as soon as they are created."
   ],
   "metadata": {
    "collapsed": false
   },
   "id": "b1480302f6f97c38"
  },
  {
   "cell_type": "code",
   "execution_count": 95,
   "outputs": [],
   "source": [
    "class Car:\n",
    "    def __init__(self , windows , doors , enginettype ):\n",
    "        self.windows = windows\n",
    "        self.doors = doors\n",
    "        self.enginetype = enginettype\n",
    "    \n",
    "    def self_driving(self):\n",
    "        return f'This is a {self.enginetype} car'\n",
    "        "
   ],
   "metadata": {
    "collapsed": false,
    "ExecuteTime": {
     "end_time": "2024-01-11T15:48:48.343836800Z",
     "start_time": "2024-01-11T15:48:48.331203700Z"
    }
   },
   "id": "e87a245b1906c8b0"
  },
  {
   "cell_type": "code",
   "execution_count": 96,
   "outputs": [],
   "source": [
    "car1  = Car(4 , 5 , \"petrol\")\n"
   ],
   "metadata": {
    "collapsed": false,
    "ExecuteTime": {
     "end_time": "2024-01-11T15:48:50.437287800Z",
     "start_time": "2024-01-11T15:48:50.413802500Z"
    }
   },
   "id": "9d514e62834b230"
  },
  {
   "cell_type": "code",
   "execution_count": 97,
   "outputs": [
    {
     "data": {
      "text/plain": "'This is a petrol car'"
     },
     "execution_count": 97,
     "metadata": {},
     "output_type": "execute_result"
    }
   ],
   "source": [
    "car1.self_driving()"
   ],
   "metadata": {
    "collapsed": false,
    "ExecuteTime": {
     "end_time": "2024-01-11T15:48:50.919656600Z",
     "start_time": "2024-01-11T15:48:50.887426500Z"
    }
   },
   "id": "6f4aeaf2cbc9a247"
  },
  {
   "cell_type": "code",
   "execution_count": 98,
   "outputs": [],
   "source": [
    "car2 = Car(3 , 4 ,'diesel')"
   ],
   "metadata": {
    "collapsed": false,
    "ExecuteTime": {
     "end_time": "2024-01-11T15:48:51.441097800Z",
     "start_time": "2024-01-11T15:48:51.416291400Z"
    }
   },
   "id": "11c6e027be988f74"
  },
  {
   "cell_type": "code",
   "execution_count": 99,
   "outputs": [
    {
     "data": {
      "text/plain": "4"
     },
     "execution_count": 99,
     "metadata": {},
     "output_type": "execute_result"
    }
   ],
   "source": [
    "car1.windows"
   ],
   "metadata": {
    "collapsed": false,
    "ExecuteTime": {
     "end_time": "2024-01-11T15:48:52.864636100Z",
     "start_time": "2024-01-11T15:48:52.847994500Z"
    }
   },
   "id": "a8e8d913eba57f75"
  },
  {
   "cell_type": "code",
   "execution_count": 100,
   "outputs": [
    {
     "data": {
      "text/plain": "'diesel'"
     },
     "execution_count": 100,
     "metadata": {},
     "output_type": "execute_result"
    }
   ],
   "source": [
    "car2.enginetype"
   ],
   "metadata": {
    "collapsed": false,
    "ExecuteTime": {
     "end_time": "2024-01-11T15:48:53.672550600Z",
     "start_time": "2024-01-11T15:48:53.638182700Z"
    }
   },
   "id": "eabb4a6bd8356223"
  },
  {
   "cell_type": "markdown",
   "source": [
    "Exception handling in Python allows you to deal with errors and unexpected situations in a more controlled manner. It involves using `try`, `except`, `finally`, and optionally `else` blocks to handle exceptions that might occur during the execution of a program.\n",
    "\n",
    "### Basic Exception Handling:\n",
    "\n",
    "```python\n",
    "try:\n",
    "    # Code that might raise an exception\n",
    "    result = 10 / 0\n",
    "\n",
    "except ZeroDivisionError:\n",
    "    # Handle the specific exception (e.g., division by zero)\n",
    "    print(\"Cannot divide by zero.\")\n",
    "\n",
    "except Exception as e:\n",
    "    # Handle other exceptions\n",
    "    print(f\"An error occurred: {e}\")\n",
    "\n",
    "else:\n",
    "    # Optional block that executes if no exception occurred\n",
    "    print(\"No exception occurred.\")\n",
    "\n",
    "finally:\n",
    "    # Optional block that always executes, with or without an exception\n",
    "    print(\"This block always executes.\")\n",
    "```\n",
    "\n",
    "- The `try` block contains the code that might raise an exception.\n",
    "- The `except` block catches and handles specific exceptions. You can have multiple `except` blocks for different exceptions.\n",
    "- The `else` block (optional) executes if no exception occurred in the `try` block.\n",
    "- The `finally` block (optional) always executes, whether an exception occurred or not.\n",
    "\n",
    "### Custom Exceptions:\n",
    "\n",
    "You can also define and raise custom exceptions using the `raise` statement.\n",
    "\n",
    "```python\n",
    "class CustomError(Exception):\n",
    "    def __init__(self, message=\"Custom error message\"):\n",
    "        self.message = message\n",
    "        super().__init__(self.message)\n",
    "\n",
    "try:\n",
    "    # Code that might raise a custom exception\n",
    "    raise CustomError(\"This is a custom exception.\")\n",
    "\n",
    "except CustomError as ce:\n",
    "    # Handle the custom exception\n",
    "    print(f\"Caught a custom exception: {ce}\")\n",
    "\n",
    "finally:\n",
    "    print(\"This block always executes.\")\n",
    "```\n",
    "\n",
    "### Exception Handling Best Practices:\n",
    "\n",
    "1. **Be Specific:**\n",
    "   - Catch specific exceptions rather than using a generic `except` block. This helps you handle different exceptions in different ways.\n",
    "\n",
    "2. **Keep It Simple:**\n",
    "   - Avoid overly broad `except` blocks. Only catch exceptions that you know how to handle.\n",
    "\n",
    "3. **Use `else` and `finally` Wisely:**\n",
    "   - The `else` block is executed when no exception occurs, and the `finally` block always executes. Use them when needed.\n",
    "\n",
    "4. **Logging:**\n",
    "   - Consider using the `logging` module to log information about exceptions.\n",
    "\n",
    "5. **Handle Exceptions Locally:**\n",
    "   - Handle exceptions as close to the source as possible. Don't catch exceptions globally unless necessary.\n",
    "\n",
    "Exception handling is a crucial aspect of writing robust and error-tolerant code. It allows your program to gracefully handle unexpected situations and prevents it from crashing due to unhandled exceptions."
   ],
   "metadata": {
    "collapsed": false
   },
   "id": "99fcf51d143a8395"
  },
  {
   "cell_type": "markdown",
   "source": [
    "Exception handling in Python is a way to deal with errors that might occur during the execution of a program. It allows you to gracefully handle errors and prevent your program from crashing. The basic structure for handling exceptions in Python is through the use of `try`, `except`, `else`, and `finally` blocks.\n",
    "\n",
    "Here's a simple example:\n",
    "\n",
    "```python\n",
    "try:\n",
    "    # Code that may raise an exception\n",
    "    x = 10 / 0  # This will raise a ZeroDivisionError\n",
    "except ZeroDivisionError as e:\n",
    "    # Handle the specific exception\n",
    "    print(f\"Error: {e}\")\n",
    "except Exception as e:\n",
    "    # Handle other exceptions\n",
    "    print(f\"An unexpected error occurred: {e}\")\n",
    "else:\n",
    "    # This block will be executed if no exception occurs\n",
    "    print(\"No exceptions occurred.\")\n",
    "finally:\n",
    "    # This block will be executed no matter what\n",
    "    print(\"Finally block - always executed.\")\n",
    "```\n",
    "\n",
    "In this example:\n",
    "\n",
    "- The `try` block contains the code that might raise an exception.\n",
    "- The `except` block catches specific exceptions and handles them. You can have multiple `except` blocks to handle different types of exceptions.\n",
    "- The `else` block is executed if no exceptions occur in the `try` block.\n",
    "- The `finally` block is always executed, regardless of whether an exception occurred or not. It is typically used for cleanup tasks.\n",
    "\n",
    "You can also catch multiple exceptions in a single `except` block:\n",
    "\n",
    "```python\n",
    "try:\n",
    "    # Code that may raise an exception\n",
    "    value = int(\"abc\")  # This will raise a ValueError\n",
    "except (ZeroDivisionError, ValueError) as e:\n",
    "    # Handle multiple exceptions in a single block\n",
    "    print(f\"Error: {e}\")\n",
    "```\n",
    "\n",
    "Remember that it's generally a good practice to catch only the exceptions you expect and let unexpected exceptions propagate up the call stack. This helps in debugging and maintaining your code."
   ],
   "metadata": {
    "collapsed": false
   },
   "id": "5bbaa17687defcee"
  },
  {
   "cell_type": "markdown",
   "source": [
    "Certainly! Let's dive into more detail about exception handling in Python.\n",
    "\n",
    "### The `try` Block:\n",
    "The `try` block is used to enclose the code that might raise an exception. If an exception occurs within the `try` block, the control is transferred to the corresponding `except` block.\n",
    "\n",
    "```python\n",
    "try:\n",
    "    # Code that may raise an exception\n",
    "    result = 10 / 0  # This will raise a ZeroDivisionError\n",
    "except ZeroDivisionError as e:\n",
    "    # Handle the specific exception\n",
    "    print(f\"Error: {e}\")\n",
    "```\n",
    "\n",
    "### The `except` Block:\n",
    "The `except` block is where you handle specific exceptions. You can have multiple `except` blocks to handle different types of exceptions. Each `except` block is executed only if the corresponding exception occurs in the `try` block.\n",
    "\n",
    "```python\n",
    "except ZeroDivisionError as e:\n",
    "    # Handle the specific exception\n",
    "    print(f\"Error: {e}\")\n",
    "except ValueError as e:\n",
    "    # Handle another specific exception\n",
    "    print(f\"Value Error: {e}\")\n",
    "except Exception as e:\n",
    "    # Handle other exceptions (this will catch any other exceptions)\n",
    "    print(f\"An unexpected error occurred: {e}\")\n",
    "```\n",
    "\n",
    "### The `else` Block:\n",
    "The `else` block is executed if no exceptions occur in the `try` block. It is optional.\n",
    "\n",
    "```python\n",
    "else:\n",
    "    print(\"No exceptions occurred.\")\n",
    "```\n",
    "\n",
    "### The `finally` Block:\n",
    "The `finally` block is always executed, regardless of whether an exception occurred or not. It is typically used for cleanup tasks, such as closing files or releasing resources.\n",
    "\n",
    "```python\n",
    "finally:\n",
    "    print(\"Finally block - always executed.\")\n",
    "```\n",
    "\n",
    "### Handling Multiple Exceptions:\n",
    "You can catch multiple exceptions in a single `except` block, either by specifying multiple exception types or using parentheses.\n",
    "\n",
    "```python\n",
    "except (ZeroDivisionError, ValueError) as e:\n",
    "    # Handle multiple exceptions in a single block\n",
    "    print(f\"Error: {e}\")\n",
    "```\n",
    "\n",
    "### Raising Exceptions:\n",
    "You can raise exceptions using the `raise` statement. This is useful when you want to indicate that a certain condition has occurred and your code cannot proceed.\n",
    "\n",
    "```python\n",
    "if x < 0:\n",
    "    raise ValueError(\"x should be a non-negative number\")\n",
    "```\n",
    "\n",
    "### Custom Exceptions:\n",
    "You can create your own custom exceptions by defining a new class that inherits from the `Exception` class or one of its subclasses.\n",
    "\n",
    "```python\n",
    "class CustomError(Exception):\n",
    "    pass\n",
    "\n",
    "# Raise the custom exception\n",
    "raise CustomError(\"This is a custom error.\")\n",
    "```\n",
    "\n",
    "Exception handling is a powerful feature in Python that allows you to write robust and resilient code. By handling exceptions gracefully, you can make your programs more reliable and user-friendly."
   ],
   "metadata": {
    "collapsed": false
   },
   "id": "e5e21cdc2c6e7d59"
  },
  {
   "cell_type": "markdown",
   "source": [
    "In programming, errors and exceptions are related concepts, but they have distinct meanings.\n",
    "\n",
    "1. **Error:**\n",
    "   - An error is a broader term that refers to any unexpected problem or issue that can occur during the execution of a program.\n",
    "   - Errors can be broadly categorized into syntax errors and runtime errors.\n",
    "   - **Syntax Errors:** These occur during the parsing phase, where the code violates the language syntax rules. The program cannot run until syntax errors are fixed.\n",
    "   - **Runtime Errors:** These occur during the execution of a program. Examples include division by zero, accessing an index out of range, or trying to use an undefined variable.\n",
    "\n",
    "   ```python\n",
    "   # Syntax error\n",
    "   print(\"Hello\"  # Missing closing parenthesis\n",
    "   \n",
    "   # Runtime error\n",
    "   result = 10 / 0  # Division by zero\n",
    "   ```\n",
    "\n",
    "2. **Exception:**\n",
    "   - An exception is a specific type of runtime error that occurs during the execution of a program and disrupts the normal flow of the program.\n",
    "   - Exceptions are raised when an error or exceptional condition is encountered.\n",
    "   - Python uses an exception-handling mechanism to deal with these unexpected situations gracefully.\n",
    "\n",
    "   ```python\n",
    "   try:\n",
    "       result = 10 / 0  # This raises a ZeroDivisionError\n",
    "   except ZeroDivisionError as e:\n",
    "       print(f\"Error: {e}\")\n",
    "   \n",
    "   \n",
    "   \n",
    "   \n",
    "   ```\n",
    "\n",
    "\n",
    "In summary, an error is a general term for any unexpected issue in a program, while an exception is a specific type of error that occurs during runtime and is handled using the exception-handling mechanism. Python provides a robust exception-handling mechanism to gracefully handle exceptions, allowing the program to recover from unexpected situations and continue its execution.\n",
    "\n",
    "\n",
    "In programming, \"error\" and \"exception\" are terms that are often used interchangeably, but they have distinct meanings and contexts.\n",
    "\n",
    "### Error:\n",
    "\n",
    "An error is a broader term that refers to any deviation from the correct execution of a program. Errors can be categorized into two main types:\n",
    "\n",
    "1. **Compile-time Error:**\n",
    "   - These errors occur during the compilation (or translation) of the program. They prevent the program from being successfully compiled and, therefore, from running at all. Examples include syntax errors or undeclared variables.\n",
    "\n",
    "2. **Run-time Error:**\n",
    "   - These errors occur during the execution of the program. They can lead to the termination of the program or cause unexpected behavior. Examples include division by zero, accessing an index out of bounds, or trying to open a file that does not exist.\n",
    "\n",
    "### Exception:\n",
    "\n",
    "An exception is a specific type of run-time error that occurs when a program encounters a situation that it cannot handle. In Python, exceptions are used to manage errors and unexpected situations more gracefully. Exception handling allows the program to respond to errors without crashing.\n",
    "\n",
    "```python\n",
    "try:\n",
    "    result = 10 / 0  # This line will raise a 'ZeroDivisionError'\n",
    "except ZeroDivisionError as e:\n",
    "    print(f\"Caught an exception: {e}\")\n",
    "```\n",
    "\n",
    "In the example above, a `ZeroDivisionError` exception is caught and handled, preventing the program from terminating abruptly.\n",
    "\n",
    "### Key Differences:\n",
    "\n",
    "- **Scope:**\n",
    "  - \"Error\" is a broader term that encompasses any incorrect behavior in a program, including both compile-time and run-time issues.\n",
    "  - \"Exception\" specifically refers to run-time errors that can be caught and handled.\n",
    "\n",
    "- **Handling:**\n",
    "  - Errors are often harder to handle, and they may lead to program termination.\n",
    "  - Exceptions can be caught and handled using `try`, `except`, `else`, and `finally` blocks, allowing for more graceful error management.\n",
    "\n",
    "In summary, while all exceptions are errors, not all errors are exceptions. Exception handling is a mechanism used to deal with specific run-time errors in a controlled manner, preventing the program from crashing and allowing for more robust error management."
   ],
   "metadata": {
    "collapsed": false
   },
   "id": "b0dc2bce8cc0e442"
  },
  {
   "cell_type": "code",
   "execution_count": 101,
   "outputs": [
    {
     "name": "stdout",
     "output_type": "stream",
     "text": [
      "2.5\n",
      "execution is done\n"
     ]
    }
   ],
   "source": [
    "try:\n",
    "    a = int(input())\n",
    "    b = int(input())\n",
    "    c = a / b\n",
    "except NameError as ex:\n",
    "    print(ex , \" done \")\n",
    "except Exception as ex1:\n",
    "    print(ex1)\n",
    "else:\n",
    "    print(c)\n",
    "finally:\n",
    "    print(\"execution is done\")"
   ],
   "metadata": {
    "collapsed": false,
    "ExecuteTime": {
     "end_time": "2024-01-11T15:49:00.910052300Z",
     "start_time": "2024-01-11T15:48:56.963048600Z"
    }
   },
   "id": "d6aebe525b5b0bb2"
  },
  {
   "cell_type": "code",
   "execution_count": 102,
   "outputs": [
    {
     "ename": "ZeroDivisionError",
     "evalue": "division by zero",
     "output_type": "error",
     "traceback": [
      "\u001B[1;31m---------------------------------------------------------------------------\u001B[0m",
      "\u001B[1;31mZeroDivisionError\u001B[0m                         Traceback (most recent call last)",
      "Cell \u001B[1;32mIn[102], line 1\u001B[0m\n\u001B[1;32m----> 1\u001B[0m \u001B[38;5;241;43m5\u001B[39;49m\u001B[38;5;241;43m/\u001B[39;49m\u001B[38;5;241;43m0\u001B[39;49m\n",
      "\u001B[1;31mZeroDivisionError\u001B[0m: division by zero"
     ]
    }
   ],
   "source": [
    "5/0"
   ],
   "metadata": {
    "collapsed": false,
    "ExecuteTime": {
     "end_time": "2024-01-11T15:49:02.035516200Z",
     "start_time": "2024-01-11T15:49:02.001844300Z"
    }
   },
   "id": "58876eedf77fcc12"
  },
  {
   "cell_type": "markdown",
   "source": [
    "In Python, you can create custom exceptions by defining a new class that inherits from the built-in `Exception` class or one of its subclasses. This allows you to raise and catch specific exceptions that are meaningful in the context of your application. Here's an example of creating and using a custom exception:\n",
    "\n",
    "```python\n",
    "class CustomError(Exception):\n",
    "    \"\"\"Custom exception class.\"\"\"\n",
    "    def __init__(self, message=\"Default error message\"):\n",
    "        self.message = message\n",
    "        super().__init__(self.message)\n",
    "\n",
    "# Example of raising the custom exception\n",
    "def example_function(value):\n",
    "    if value < 0:\n",
    "        raise CustomError(\"Value must be non-negative.\")\n",
    "\n",
    "try:\n",
    "    # Calling the function that might raise the custom exception\n",
    "    example_function(-5)\n",
    "\n",
    "except CustomError as ce:\n",
    "    # Handling the custom exception\n",
    "    print(f\"Caught a custom exception: {ce}\")\n",
    "\n",
    "finally:\n",
    "    print(\"This block always executes.\")\n",
    "```\n",
    "\n",
    "In this example:\n",
    "\n",
    "- `CustomError` is a custom exception class that inherits from the built-in `Exception` class.\n",
    "- The `__init__` method is used to initialize the exception with an optional error message.\n",
    "- The `example_function` function raises the `CustomError` if the provided value is negative.\n",
    "- The `try`, `except`, and `finally` blocks are used to catch and handle the custom exception.\n",
    "\n",
    "You can customize your custom exception class based on the specific requirements of your application. Using custom exceptions makes your code more readable and allows you to handle errors in a way that is meaningful to your application's logic.\n",
    "\n",
    "Remember that it's a good practice to provide informative error messages when raising custom exceptions, helping developers understand the cause of the error."
   ],
   "metadata": {
    "collapsed": false
   },
   "id": "73279227f5bd2f94"
  },
  {
   "cell_type": "code",
   "execution_count": 103,
   "outputs": [],
   "source": [
    "class Error(Exception):\n",
    "    pass\n",
    "\n",
    "class dobException(Error):\n",
    "    pass\n",
    "class customgeneric(Error):\n",
    "    pass"
   ],
   "metadata": {
    "collapsed": false,
    "ExecuteTime": {
     "end_time": "2024-01-11T15:49:03.297356900Z",
     "start_time": "2024-01-11T15:49:03.274114300Z"
    }
   },
   "id": "d63b4f6d3bc99cc9"
  },
  {
   "cell_type": "code",
   "execution_count": 104,
   "outputs": [
    {
     "name": "stdout",
     "output_type": "stream",
     "text": [
      "Age not valid\n"
     ]
    }
   ],
   "source": [
    "year = int(input(\"year: \"))\n",
    "age = 2021 - year\n",
    "try:\n",
    "    if age <=30 and age>20:\n",
    "        print(\"age is valid\")\n",
    "    else:\n",
    "        raise dobException\n",
    "except dobException:\n",
    "    print(\"Age not valid\")\n"
   ],
   "metadata": {
    "collapsed": false,
    "ExecuteTime": {
     "end_time": "2024-01-11T15:49:07.085818100Z",
     "start_time": "2024-01-11T15:49:03.886189600Z"
    }
   },
   "id": "bf24b2735dac26cd"
  },
  {
   "cell_type": "markdown",
   "source": [
    "Inheritance is a fundamental concept in object-oriented programming (OOP) that allows a class (the child or derived class) to inherit attributes and methods from another class (the parent or base class). The child class can then extend or override these inherited attributes and methods. In Python, inheritance is supported, and it helps promote code reuse and the creation of a hierarchy of classes.\n",
    "\n",
    "Here's an example to illustrate inheritance in Python:\n",
    "\n",
    "```python\n",
    "# Parent class (Base class)\n",
    "class Animal:\n",
    "    def __init__(self, name):\n",
    "        self.name = name\n",
    "\n",
    "    def speak(self):\n",
    "        print(f\"{self.name} makes a sound.\")\n",
    "\n",
    "# Child class (Derived class)\n",
    "class Dog(Animal):\n",
    "    def bark(self):\n",
    "        print(f\"{self.name} barks.\")\n",
    "\n",
    "# Child class (Derived class)\n",
    "class Cat(Animal):\n",
    "    def meow(self):\n",
    "        print(f\"{self.name} meows.\")\n",
    "\n",
    "# Creating instances of the derived classes\n",
    "dog_instance = Dog(name=\"Buddy\")\n",
    "cat_instance = Cat(name=\"Whiskers\")\n",
    "\n",
    "# Inheriting attributes and methods from the parent class\n",
    "dog_instance.speak()  # Output: Buddy makes a sound.\n",
    "cat_instance.speak()  # Output: Whiskers makes a sound.\n",
    "\n",
    "# Using methods specific to the derived classes\n",
    "dog_instance.bark()   # Output: Buddy barks.\n",
    "cat_instance.meow()   # Output: Whiskers meows.\n",
    "```\n",
    "\n",
    "In this example:\n",
    "\n",
    "- `Animal` is the parent class with a constructor `__init__` and a method `speak`.\n",
    "- `Dog` and `Cat` are child classes that inherit from the `Animal` class.\n",
    "- Instances of `Dog` and `Cat` inherit the `name` attribute and the `speak` method from the `Animal` class.\n",
    "- The child classes introduce their own methods (`bark` and `meow`).\n",
    "\n",
    "### Types of Inheritance:\n",
    "\n",
    "1. **Single Inheritance:**\n",
    "   - A class inherits from only one base class.\n",
    "\n",
    "```python\n",
    "class A:\n",
    "    pass\n",
    "\n",
    "class B(A):\n",
    "    pass\n",
    "```\n",
    "\n",
    "2. **Multiple Inheritance:**\n",
    "   - A class inherits from more than one base class.\n",
    "\n",
    "```python\n",
    "class A:\n",
    "    pass\n",
    "\n",
    "class B:\n",
    "    pass\n",
    "\n",
    "class C(A, B):\n",
    "    pass\n",
    "```\n",
    "\n",
    "3. **Multilevel Inheritance:**\n",
    "   - A class inherits from a base class, and another class inherits from the derived class.\n",
    "\n",
    "```python\n",
    "class A:\n",
    "    pass\n",
    "\n",
    "class B(A):\n",
    "    pass\n",
    "\n",
    "class C(B):\n",
    "    pass\n",
    "```\n",
    "\n",
    "4. **Hierarchical Inheritance:**\n",
    "   - Multiple classes inherit from a single base class.\n",
    "\n",
    "```python\n",
    "class A:\n",
    "    pass\n",
    "\n",
    "class B(A):\n",
    "    pass\n",
    "\n",
    "class C(A):\n",
    "    pass\n",
    "```\n",
    "\n",
    "Inheritance is a powerful concept that promotes code reusability and helps in creating a logical and organized class hierarchy. It allows you to structure your code in a way that reflects the relationships between different entities in your program."
   ],
   "metadata": {
    "collapsed": false
   },
   "id": "1c7e68f9e957ceb8"
  },
  {
   "cell_type": "code",
   "execution_count": 105,
   "outputs": [],
   "source": [
    "class Car1:\n",
    "    def __init__(self , windows , doors , enginettype ):\n",
    "        self.windows = windows\n",
    "        self.doors = doors\n",
    "        self.enginetype = enginettype\n",
    "    \n",
    "    def drive(self):\n",
    "        print(\"person drives the car\")\n",
    "        "
   ],
   "metadata": {
    "collapsed": false,
    "ExecuteTime": {
     "end_time": "2024-01-11T15:49:08.691000700Z",
     "start_time": "2024-01-11T15:49:08.674189200Z"
    }
   },
   "id": "c74a248d8b9db25d"
  },
  {
   "cell_type": "code",
   "execution_count": 106,
   "outputs": [],
   "source": [
    "car = Car1(4 , 5 , 'diesel')"
   ],
   "metadata": {
    "collapsed": false,
    "ExecuteTime": {
     "end_time": "2024-01-11T15:49:11.076536700Z",
     "start_time": "2024-01-11T15:49:11.056514Z"
    }
   },
   "id": "d6e7322bc4914dbf"
  },
  {
   "cell_type": "code",
   "execution_count": 107,
   "outputs": [
    {
     "data": {
      "text/plain": "4"
     },
     "execution_count": 107,
     "metadata": {},
     "output_type": "execute_result"
    }
   ],
   "source": [
    "car.windows"
   ],
   "metadata": {
    "collapsed": false,
    "ExecuteTime": {
     "end_time": "2024-01-11T15:49:11.472664400Z",
     "start_time": "2024-01-11T15:49:11.453656100Z"
    }
   },
   "id": "630a47d0a854274c"
  },
  {
   "cell_type": "code",
   "execution_count": 108,
   "outputs": [
    {
     "data": {
      "text/plain": "'diesel'"
     },
     "execution_count": 108,
     "metadata": {},
     "output_type": "execute_result"
    }
   ],
   "source": [
    "car.enginetype"
   ],
   "metadata": {
    "collapsed": false,
    "ExecuteTime": {
     "end_time": "2024-01-11T15:49:12.092241100Z",
     "start_time": "2024-01-11T15:49:12.076765600Z"
    }
   },
   "id": "3c87d96300078f0f"
  },
  {
   "cell_type": "code",
   "execution_count": 109,
   "outputs": [
    {
     "name": "stdout",
     "output_type": "stream",
     "text": [
      "person drives the car\n"
     ]
    }
   ],
   "source": [
    "car.drive()"
   ],
   "metadata": {
    "collapsed": false,
    "ExecuteTime": {
     "end_time": "2024-01-11T15:49:12.554360500Z",
     "start_time": "2024-01-11T15:49:12.534101500Z"
    }
   },
   "id": "930f34b4937e6c4f"
  },
  {
   "cell_type": "code",
   "execution_count": 110,
   "outputs": [],
   "source": [
    "class audi(Car1):\n",
    "    def __init__(self , windows , doors , enginettype , ai ):\n",
    "        super().__init__(windows , doors , enginettype)\n",
    "        self.ai = ai\n",
    "    \n",
    "    def selfdrive(self):\n",
    "        print(\"can self drive\")    "
   ],
   "metadata": {
    "collapsed": false,
    "ExecuteTime": {
     "end_time": "2024-01-11T15:49:13.046347600Z",
     "start_time": "2024-01-11T15:49:13.029287400Z"
    }
   },
   "id": "6ea9f10e0da24686"
  },
  {
   "cell_type": "code",
   "execution_count": 111,
   "outputs": [],
   "source": [
    "audiQ7 = audi(5 , 5 , 'diesel' , True)"
   ],
   "metadata": {
    "collapsed": false,
    "ExecuteTime": {
     "end_time": "2024-01-11T15:49:13.768159900Z",
     "start_time": "2024-01-11T15:49:13.750566700Z"
    }
   },
   "id": "9b0ee47b52a4b30c"
  },
  {
   "cell_type": "code",
   "execution_count": 112,
   "outputs": [
    {
     "data": {
      "text/plain": "['__class__',\n '__delattr__',\n '__dict__',\n '__dir__',\n '__doc__',\n '__eq__',\n '__format__',\n '__ge__',\n '__getattribute__',\n '__getstate__',\n '__gt__',\n '__hash__',\n '__init__',\n '__init_subclass__',\n '__le__',\n '__lt__',\n '__module__',\n '__ne__',\n '__new__',\n '__reduce__',\n '__reduce_ex__',\n '__repr__',\n '__setattr__',\n '__sizeof__',\n '__str__',\n '__subclasshook__',\n '__weakref__',\n 'ai',\n 'doors',\n 'drive',\n 'enginetype',\n 'selfdrive',\n 'windows']"
     },
     "execution_count": 112,
     "metadata": {},
     "output_type": "execute_result"
    }
   ],
   "source": [
    "dir(audiQ7)"
   ],
   "metadata": {
    "collapsed": false,
    "ExecuteTime": {
     "end_time": "2024-01-11T15:49:14.168490800Z",
     "start_time": "2024-01-11T15:49:14.151612400Z"
    }
   },
   "id": "7595bdef687e9720"
  },
  {
   "cell_type": "code",
   "execution_count": 113,
   "outputs": [
    {
     "data": {
      "text/plain": "5"
     },
     "execution_count": 113,
     "metadata": {},
     "output_type": "execute_result"
    }
   ],
   "source": [
    "audiQ7.doors"
   ],
   "metadata": {
    "collapsed": false,
    "ExecuteTime": {
     "end_time": "2024-01-11T15:49:15.455563300Z",
     "start_time": "2024-01-11T15:49:15.430785900Z"
    }
   },
   "id": "ca2c2470ddc10b11"
  },
  {
   "cell_type": "code",
   "execution_count": 114,
   "outputs": [
    {
     "name": "stdout",
     "output_type": "stream",
     "text": [
      "person drives the car\n"
     ]
    }
   ],
   "source": [
    "audiQ7.drive()"
   ],
   "metadata": {
    "collapsed": false,
    "ExecuteTime": {
     "end_time": "2024-01-11T15:49:15.997321600Z",
     "start_time": "2024-01-11T15:49:15.981310900Z"
    }
   },
   "id": "91b1253d6758a85c"
  },
  {
   "cell_type": "code",
   "execution_count": 115,
   "outputs": [
    {
     "name": "stdout",
     "output_type": "stream",
     "text": [
      "can self drive\n"
     ]
    }
   ],
   "source": [
    "audiQ7.selfdrive()"
   ],
   "metadata": {
    "collapsed": false,
    "ExecuteTime": {
     "end_time": "2024-01-11T15:49:16.456742100Z",
     "start_time": "2024-01-11T15:49:16.423986300Z"
    }
   },
   "id": "89899c3a4e1a97ea"
  },
  {
   "cell_type": "markdown",
   "source": [
    "Magic methods, also known as dunder (double underscore) methods or special methods, are special names in Python that start and end with double underscores, such as `__init__`, `__str__`, and `__len__`. These methods are used to define how objects behave in various circumstances, and they provide a way to customize the behavior of classes.\n",
    "\n",
    "Here are some commonly used magic methods:\n",
    "\n",
    "### `__init__(self, ...)`\n",
    "\n",
    "The `__init__` method is called when an object is created. It initializes the object's attributes.\n",
    "\n",
    "```python\n",
    "class MyClass:\n",
    "    def __init__(self, value):\n",
    "        self.value = value\n",
    "\n",
    "# Creating an instance of the class\n",
    "obj = MyClass(value=42)\n",
    "```\n",
    "\n",
    "### `__str__(self)`\n",
    "\n",
    "The `__str__` method is called when the `str()` function is used on an object. It should return a human-readable string representation of the object.\n",
    "\n",
    "```python\n",
    "class MyClass:\n",
    "    def __init__(self, value):\n",
    "        self.value = value\n",
    "\n",
    "    def __str__(self):\n",
    "        return f\"MyClass instance with value: {self.value}\"\n",
    "\n",
    "# Using str() on an instance\n",
    "obj = MyClass(value=42)\n",
    "print(str(obj))  # Output: MyClass instance with value: 42\n",
    "```\n",
    "\n",
    "### `__len__(self)`\n",
    "\n",
    "The `__len__` method is called when the `len()` function is used on an object. It should return the length of the object.\n",
    "\n",
    "```python\n",
    "class MyList:\n",
    "    def __init__(self, items):\n",
    "        self.items = items\n",
    "\n",
    "    def __len__(self):\n",
    "        return len(self.items)\n",
    "\n",
    "# Using len() on an instance\n",
    "my_list = MyList(items=[1, 2, 3, 4, 5])\n",
    "print(len(my_list))  # Output: 5\n",
    "```\n",
    "\n",
    "### `__getitem__(self, key)`\n",
    "\n",
    "The `__getitem__` method is called when an item is accessed using square bracket notation.\n",
    "\n",
    "```python\n",
    "class MyList:\n",
    "    def __init__(self, items):\n",
    "        self.items = items\n",
    "\n",
    "    def __getitem__(self, index):\n",
    "        return self.items[index]\n",
    "\n",
    "# Accessing items using square bracket notation\n",
    "my_list = MyList(items=[1, 2, 3, 4, 5])\n",
    "print(my_list[2])  # Output: 3\n",
    "```\n",
    "\n",
    "### `__call__(self, ...)`\n",
    "\n",
    "The `__call__` method allows an object to be called like a function.\n",
    "\n",
    "```python\n",
    "class MyCallable:\n",
    "    def __call__(self, x, y):\n",
    "        return x + y\n",
    "\n",
    "# Creating an instance and calling it\n",
    "my_callable = MyCallable()\n",
    "result = my_callable(3, 4)\n",
    "print(result)  # Output: 7\n",
    "```\n",
    "\n",
    "These are just a few examples of the many magic methods available in Python. They provide a powerful way to customize the behavior of objects, allowing you to define how instances of your classes should respond to various operations and expressions."
   ],
   "metadata": {
    "collapsed": false
   },
   "id": "17baab5a235fc7c0"
  },
  {
   "cell_type": "code",
   "execution_count": 116,
   "outputs": [],
   "source": [
    "class Car2:\n",
    "    def __init__(self , windows , doors , enginettype ):\n",
    "        self.windows = windows\n",
    "        self.doors = doors\n",
    "        self.enginetype = enginettype\n",
    "    def __str__(self):\n",
    "        return (\"The Object has been initiated\")\n",
    "    def drive(self):\n",
    "        print(\"person drives the car\")\n",
    "        "
   ],
   "metadata": {
    "collapsed": false,
    "ExecuteTime": {
     "end_time": "2024-01-11T15:49:17.691530400Z",
     "start_time": "2024-01-11T15:49:17.676421800Z"
    }
   },
   "id": "2214e06e7b866866"
  },
  {
   "cell_type": "code",
   "execution_count": 121,
   "outputs": [],
   "source": [
    "c = Car2(4 , 5 , 'petrol')"
   ],
   "metadata": {
    "collapsed": false,
    "ExecuteTime": {
     "end_time": "2024-01-11T15:49:41.730775900Z",
     "start_time": "2024-01-11T15:49:41.703291800Z"
    }
   },
   "id": "b910c56f86c036e5"
  },
  {
   "cell_type": "code",
   "execution_count": 122,
   "outputs": [
    {
     "data": {
      "text/plain": "['__class__',\n '__delattr__',\n '__dict__',\n '__dir__',\n '__doc__',\n '__eq__',\n '__format__',\n '__ge__',\n '__getattribute__',\n '__getstate__',\n '__gt__',\n '__hash__',\n '__init__',\n '__init_subclass__',\n '__le__',\n '__lt__',\n '__module__',\n '__ne__',\n '__new__',\n '__reduce__',\n '__reduce_ex__',\n '__repr__',\n '__setattr__',\n '__sizeof__',\n '__str__',\n '__subclasshook__',\n '__weakref__',\n 'doors',\n 'drive',\n 'enginetype',\n 'windows']"
     },
     "execution_count": 122,
     "metadata": {},
     "output_type": "execute_result"
    }
   ],
   "source": [
    "dir(c)"
   ],
   "metadata": {
    "collapsed": false,
    "ExecuteTime": {
     "end_time": "2024-01-11T15:49:42.301263300Z",
     "start_time": "2024-01-11T15:49:42.280041Z"
    }
   },
   "id": "89309e18961e553c"
  },
  {
   "cell_type": "code",
   "execution_count": 123,
   "outputs": [
    {
     "data": {
      "text/plain": "24"
     },
     "execution_count": 123,
     "metadata": {},
     "output_type": "execute_result"
    }
   ],
   "source": [
    "c.__sizeof__()"
   ],
   "metadata": {
    "collapsed": false,
    "ExecuteTime": {
     "end_time": "2024-01-11T15:49:42.929431Z",
     "start_time": "2024-01-11T15:49:42.912912400Z"
    }
   },
   "id": "88ba71dc5936b34f"
  },
  {
   "cell_type": "code",
   "execution_count": 124,
   "outputs": [
    {
     "name": "stdout",
     "output_type": "stream",
     "text": [
      "The Object has been initiated\n"
     ]
    }
   ],
   "source": [
    "print(c)"
   ],
   "metadata": {
    "collapsed": false,
    "ExecuteTime": {
     "end_time": "2024-01-11T15:49:44.223227Z",
     "start_time": "2024-01-11T15:49:44.206818200Z"
    }
   },
   "id": "ba0af8491d0425c8"
  },
  {
   "cell_type": "code",
   "execution_count": null,
   "outputs": [],
   "source": [],
   "metadata": {
    "collapsed": false
   },
   "id": "7d61ace1cca5d516"
  },
  {
   "cell_type": "markdown",
   "source": [
    "## Assert Statement In Python\n",
    "\n",
    "The `assert` statement in Python is used to test if a given expression evaluates to `True`. If the expression is `False`, the `assert` statement raises an `AssertionError` exception with an optional error message. The primary purpose of `assert` is to catch bugs early in development by allowing developers to include debugging assertions in their code.\n",
    "\n",
    "The basic syntax of the `assert` statement is as follows:\n",
    "\n",
    "```python\n",
    "assert expression[, message]\n",
    "```\n",
    "\n",
    "- `expression`: The condition that is expected to be `True`. If it evaluates to `False`, an `AssertionError` is raised.\n",
    "- `message` (optional): An optional error message that is displayed if the assertion fails.\n",
    "\n",
    "Here's a simple example:\n",
    "\n",
    "```python\n",
    "x = 5\n",
    "\n",
    "assert x > 0, \"Value must be positive\"\n",
    "```\n",
    "\n",
    "In this example, the `assert` statement checks if the value of `x` is greater than 0. If the condition is `False`, an `AssertionError` is raised with the specified error message.\n",
    "\n",
    "### Usage Guidelines:\n",
    "\n",
    "1. **Debugging:**\n",
    "   - Use `assert` for debugging purposes to check conditions that should always be true during development.\n",
    "\n",
    "2. **Not for Handling Exceptions:**\n",
    "   - Avoid using `assert` for handling exceptions in production code. It is meant for debugging, and its behavior can be disabled globally with the `-O` (optimize) command-line switch.\n",
    "\n",
    "3. **Documenting Assumptions:**\n",
    "   - Use `assert` to document assumptions about the code. Assertions serve as documentation for other developers who read the code.\n",
    "\n",
    "4. **Enable/Disable:**\n",
    "   - In optimized mode (with the `-O` switch), assertions are ignored, and the code runs without checking them. This is done to improve the performance of optimized code.\n",
    "\n",
    "Here's an example demonstrating the usage of `assert`:\n",
    "\n",
    "```python\n",
    "def divide(x, y):\n",
    "    assert y != 0, \"Cannot divide by zero\"\n",
    "    return x / y\n",
    "\n",
    "result = divide(10, 2)\n",
    "print(result)  # Output: 5.0\n",
    "\n",
    "result = divide(10, 0)  # Raises AssertionError with the specified message\n",
    "```\n",
    "\n",
    "In this example, the `assert` statement checks if the denominator (`y`) is not zero before performing the division operation. If the condition is not met, an `AssertionError` is raised with the specified error message."
   ],
   "metadata": {
    "collapsed": false
   },
   "id": "ffbfb7a82169089f"
  },
  {
   "cell_type": "code",
   "execution_count": 125,
   "outputs": [
    {
     "data": {
      "text/plain": "True"
     },
     "execution_count": 125,
     "metadata": {},
     "output_type": "execute_result"
    }
   ],
   "source": [
    "10 >= 10"
   ],
   "metadata": {
    "collapsed": false,
    "ExecuteTime": {
     "end_time": "2024-01-11T16:45:46.388599Z",
     "start_time": "2024-01-11T16:45:46.366663400Z"
    }
   },
   "id": "c87b7a119af68baa"
  },
  {
   "cell_type": "code",
   "execution_count": 127,
   "outputs": [
    {
     "ename": "AssertionError",
     "evalue": "",
     "output_type": "error",
     "traceback": [
      "\u001B[1;31m---------------------------------------------------------------------------\u001B[0m",
      "\u001B[1;31mAssertionError\u001B[0m                            Traceback (most recent call last)",
      "Cell \u001B[1;32mIn[127], line 2\u001B[0m\n\u001B[0;32m      1\u001B[0m num \u001B[38;5;241m=\u001B[39m \u001B[38;5;241m10\u001B[39m\n\u001B[1;32m----> 2\u001B[0m \u001B[38;5;28;01massert\u001B[39;00m num \u001B[38;5;241m>\u001B[39m \u001B[38;5;241m10\u001B[39m\n",
      "\u001B[1;31mAssertionError\u001B[0m: "
     ]
    }
   ],
   "source": [
    "num = 10\n",
    "assert num > 10"
   ],
   "metadata": {
    "collapsed": false,
    "ExecuteTime": {
     "end_time": "2024-01-11T16:46:28.239280900Z",
     "start_time": "2024-01-11T16:46:28.214255200Z"
    }
   },
   "id": "7c4bde3c68e6e059"
  },
  {
   "cell_type": "code",
   "execution_count": 129,
   "outputs": [
    {
     "name": "stdout",
     "output_type": "stream",
     "text": [
      "even\n"
     ]
    }
   ],
   "source": [
    "try:\n",
    "    num = int(input())\n",
    "    assert num % 2 ==0\n",
    "    print(\"even\")\n",
    "except AssertionError:\n",
    "    print(\"not even\")"
   ],
   "metadata": {
    "collapsed": false,
    "ExecuteTime": {
     "end_time": "2024-01-11T16:48:57.000366900Z",
     "start_time": "2024-01-11T16:48:54.689340200Z"
    }
   },
   "id": "baa01cc087a64415"
  },
  {
   "cell_type": "markdown",
   "source": [
    "## Iterators Vs Generators\n",
    "\n",
    "Iterators and generators are both concepts in Python that deal with iterating over a sequence of elements, but they have different implementations and use cases.\n",
    "\n",
    "### Iterators:\n",
    "\n",
    "1. **Definition:**\n",
    "   - An iterator is an object that implements the Python `__iter__()` and `__next__()` methods. It keeps track of its internal state and returns the next item in the sequence when the `__next__()` method is called.\n",
    "\n",
    "2. **Implementation:**\n",
    "   - To create an iterator, you need to define a class with `__iter__()` and `__next__()` methods, or use a generator function.\n",
    "\n",
    "3. **Example:**\n",
    "   ```python\n",
    "   class MyIterator:\n",
    "       def __init__(self, data):\n",
    "           self.data = data\n",
    "           self.index = 0\n",
    "\n",
    "       def __iter__(self):\n",
    "           return self\n",
    "\n",
    "       def __next__(self):\n",
    "           if self.index < len(self.data):\n",
    "               result = self.data[self.index]\n",
    "               self.index += 1\n",
    "               return result\n",
    "           else:\n",
    "               raise StopIteration\n",
    "\n",
    "   my_iterator = MyIterator([1, 2, 3, 4])\n",
    "\n",
    "   for item in my_iterator:\n",
    "       print(item)\n",
    "   ```\n",
    "\n",
    "### Generators:\n",
    "\n",
    "1. **Definition:**\n",
    "   - A generator is a special type of iterator that is created using a function with the `yield` keyword. Generators are more concise and memory-efficient than traditional iterators.\n",
    "\n",
    "2. **Implementation:**\n",
    "   - Generators use a function with the `yield` statement to produce a sequence of values. Each time the `yield` statement is encountered, the function's state is saved, and the yielded value is returned.\n",
    "\n",
    "3. **Example:**\n",
    "   ```python\n",
    "   def my_generator(data):\n",
    "       for item in data:\n",
    "           yield item\n",
    "\n",
    "   my_gen = my_generator([1, 2, 3, 4])\n",
    "\n",
    "   for item in my_gen:\n",
    "       print(item)\n",
    "   ```\n",
    "\n",
    "### Key Differences:\n",
    "\n",
    "1. **Memory Efficiency:**\n",
    "   - Generators are more memory-efficient because they generate values on-the-fly, whereas traditional iterators might generate the entire sequence in memory.\n",
    "\n",
    "2. **Syntax:**\n",
    "   - Generators use a simpler syntax with the `yield` statement, making the code more concise.\n",
    "\n",
    "3. **State Management:**\n",
    "   - Generators automatically manage their state, whereas in traditional iterators, you need to manually handle the state using variables.\n",
    "\n",
    "4. **Use Cases:**\n",
    "   - Use iterators when you need more control over the iteration process, such as managing state and implementing the `__next__()` method.\n",
    "   - Use generators when you want a simple and memory-efficient way to create iterators without dealing with manual state management.\n",
    "\n",
    "Both iterators and generators allow you to iterate over a sequence of values, but generators provide a more convenient and concise way to achieve this, especially when dealing with large datasets or streams of data."
   ],
   "metadata": {
    "collapsed": false
   },
   "id": "ce266a2bbb6c37a0"
  },
  {
   "cell_type": "code",
   "execution_count": 143,
   "outputs": [
    {
     "name": "stdout",
     "output_type": "stream",
     "text": [
      "1\n",
      "2\n",
      "3\n",
      "4\n"
     ]
    }
   ],
   "source": [
    "## iterator\n",
    "lst  = [ 1 , 2 , 3 , 4]\n",
    "for i in lst:\n",
    "    print(i)"
   ],
   "metadata": {
    "collapsed": false,
    "ExecuteTime": {
     "end_time": "2024-01-11T16:56:01.485997400Z",
     "start_time": "2024-01-11T16:56:01.467446700Z"
    }
   },
   "id": "c384414e2259cf2f"
  },
  {
   "cell_type": "code",
   "execution_count": 144,
   "outputs": [],
   "source": [
    "iterable = iter(lst)"
   ],
   "metadata": {
    "collapsed": false,
    "ExecuteTime": {
     "end_time": "2024-01-11T16:56:02.036099300Z",
     "start_time": "2024-01-11T16:56:02.006903200Z"
    }
   },
   "id": "228b9ffbf866d92e"
  },
  {
   "cell_type": "code",
   "execution_count": 133,
   "outputs": [
    {
     "name": "stdout",
     "output_type": "stream",
     "text": [
      "1\n",
      "2\n",
      "3\n",
      "4\n"
     ]
    }
   ],
   "source": [
    "for i in iterable:\n",
    "    print(i)"
   ],
   "metadata": {
    "collapsed": false,
    "ExecuteTime": {
     "end_time": "2024-01-11T16:53:33.646097900Z",
     "start_time": "2024-01-11T16:53:33.481790200Z"
    }
   },
   "id": "b9edf6a6ae90152f"
  },
  {
   "cell_type": "code",
   "execution_count": 141,
   "outputs": [
    {
     "ename": "StopIteration",
     "evalue": "",
     "output_type": "error",
     "traceback": [
      "\u001B[1;31m---------------------------------------------------------------------------\u001B[0m",
      "\u001B[1;31mStopIteration\u001B[0m                             Traceback (most recent call last)",
      "Cell \u001B[1;32mIn[141], line 1\u001B[0m\n\u001B[1;32m----> 1\u001B[0m \u001B[38;5;28;43mnext\u001B[39;49m\u001B[43m(\u001B[49m\u001B[43miterable\u001B[49m\u001B[43m)\u001B[49m\n",
      "\u001B[1;31mStopIteration\u001B[0m: "
     ]
    }
   ],
   "source": [
    "next(iterable)"
   ],
   "metadata": {
    "collapsed": false,
    "ExecuteTime": {
     "end_time": "2024-01-11T16:54:32.831233600Z",
     "start_time": "2024-01-11T16:54:32.790541100Z"
    }
   },
   "id": "c7fd6de28f259b7f"
  },
  {
   "cell_type": "code",
   "execution_count": 149,
   "outputs": [
    {
     "name": "stdout",
     "output_type": "stream",
     "text": [
      "no more elements\n"
     ]
    }
   ],
   "source": [
    "try:\n",
    "    print(next(iterable))\n",
    "except StopIteration:\n",
    "    print(\"no more elements\")"
   ],
   "metadata": {
    "collapsed": false,
    "ExecuteTime": {
     "end_time": "2024-01-11T16:56:19.229121300Z",
     "start_time": "2024-01-11T16:56:19.203289200Z"
    }
   },
   "id": "d82e818e81fadb48"
  },
  {
   "cell_type": "code",
   "execution_count": 161,
   "outputs": [],
   "source": [
    "## generator\n",
    "def square(n):\n",
    "    for i in range(n):\n",
    "        yield i ** 2"
   ],
   "metadata": {
    "collapsed": false,
    "ExecuteTime": {
     "end_time": "2024-01-11T16:57:36.995164100Z",
     "start_time": "2024-01-11T16:57:36.977827900Z"
    }
   },
   "id": "314044448753016b"
  },
  {
   "cell_type": "code",
   "execution_count": 162,
   "outputs": [
    {
     "data": {
      "text/plain": "<generator object square at 0x000002902DD93370>"
     },
     "execution_count": 162,
     "metadata": {},
     "output_type": "execute_result"
    }
   ],
   "source": [
    "square(3)"
   ],
   "metadata": {
    "collapsed": false,
    "ExecuteTime": {
     "end_time": "2024-01-11T16:57:37.224818800Z",
     "start_time": "2024-01-11T16:57:37.208218Z"
    }
   },
   "id": "b985a64f6e878ceb"
  },
  {
   "cell_type": "code",
   "execution_count": 163,
   "outputs": [
    {
     "name": "stdout",
     "output_type": "stream",
     "text": [
      "0\n",
      "1\n",
      "4\n"
     ]
    }
   ],
   "source": [
    "for i in square(3):\n",
    "    print(i)"
   ],
   "metadata": {
    "collapsed": false,
    "ExecuteTime": {
     "end_time": "2024-01-11T16:57:58.498088500Z",
     "start_time": "2024-01-11T16:57:58.420915400Z"
    }
   },
   "id": "a9be002e872f072e"
  },
  {
   "cell_type": "code",
   "execution_count": 164,
   "outputs": [
    {
     "data": {
      "text/plain": "<generator object square at 0x000002902F1C7370>"
     },
     "execution_count": 164,
     "metadata": {},
     "output_type": "execute_result"
    }
   ],
   "source": [
    "a = square(3)\n",
    "a"
   ],
   "metadata": {
    "collapsed": false,
    "ExecuteTime": {
     "end_time": "2024-01-11T16:58:11.571526600Z",
     "start_time": "2024-01-11T16:58:11.496168300Z"
    }
   },
   "id": "1ccce09f628bdc49"
  },
  {
   "cell_type": "code",
   "execution_count": 168,
   "outputs": [
    {
     "ename": "StopIteration",
     "evalue": "",
     "output_type": "error",
     "traceback": [
      "\u001B[1;31m---------------------------------------------------------------------------\u001B[0m",
      "\u001B[1;31mStopIteration\u001B[0m                             Traceback (most recent call last)",
      "Cell \u001B[1;32mIn[168], line 1\u001B[0m\n\u001B[1;32m----> 1\u001B[0m \u001B[38;5;28;43mnext\u001B[39;49m\u001B[43m(\u001B[49m\u001B[43ma\u001B[49m\u001B[43m)\u001B[49m\n",
      "\u001B[1;31mStopIteration\u001B[0m: "
     ]
    }
   ],
   "source": [
    "next(a)"
   ],
   "metadata": {
    "collapsed": false,
    "ExecuteTime": {
     "end_time": "2024-01-11T16:58:22.138679700Z",
     "start_time": "2024-01-11T16:58:22.080605100Z"
    }
   },
   "id": "6e288ce00fc12692"
  },
  {
   "cell_type": "markdown",
   "source": [
    "Here's a tabular comparison between iterators and generators in Python:\n",
    "\n",
    "| Feature                 | Iterators                                   | Generators                                       |\n",
    "|-------------------------|---------------------------------------------|-------------------------------------------------|\n",
    "| **Implementation**      | Typically implemented as a class with `__iter__()` and `__next__()` methods. | Implemented using a function with the `yield` statement. |\n",
    "| **Memory Efficiency**   | May consume more memory, especially for large datasets, as the entire sequence might be generated in memory. | More memory-efficient since values are generated on-the-fly, yielding one at a time. |\n",
    "| **Syntax**              | Involves more boilerplate code, such as managing state and raising `StopIteration` when the sequence is exhausted. | Uses a simpler syntax with the `yield` statement, making the code more concise. |\n",
    "| **State Management**    | Requires manual management of the iterator state using variables (e.g., index). | Automatically manages the generator's state, suspending and resuming execution between `yield` statements. |\n",
    "| **Use Cases**           | Suitable for scenarios where more control over the iteration process is needed, and explicit management of state is acceptable. | Ideal for cases where simplicity, readability, and memory efficiency are important, such as processing large datasets or streams of data. |\n",
    "\n",
    "In summary, while both iterators and generators facilitate the iteration over a sequence of values, iterators are more manual and provide explicit control over the iteration process. On the other hand, generators are a more concise and memory-efficient way to create iterators, making them preferable for certain use cases, especially when dealing with large datasets or streams of data."
   ],
   "metadata": {
    "collapsed": false
   },
   "id": "3a0d1125d4a0a6d1"
  },
  {
   "cell_type": "code",
   "execution_count": null,
   "outputs": [],
   "source": [],
   "metadata": {
    "collapsed": false
   },
   "id": "482437dabbce79c8"
  }
 ],
 "metadata": {
  "kernelspec": {
   "display_name": "Python 3",
   "language": "python",
   "name": "python3"
  },
  "language_info": {
   "codemirror_mode": {
    "name": "ipython",
    "version": 2
   },
   "file_extension": ".py",
   "mimetype": "text/x-python",
   "name": "python",
   "nbconvert_exporter": "python",
   "pygments_lexer": "ipython2",
   "version": "2.7.6"
  }
 },
 "nbformat": 4,
 "nbformat_minor": 5
}
