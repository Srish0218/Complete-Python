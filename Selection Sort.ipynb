{
 "cells": [
  {
   "cell_type": "markdown",
   "source": [
    "## Selection Sort\n",
    "\n",
    "Selection Sort is a simple sorting algorithm that repeatedly selects the smallest (or largest, depending on sorting order) element from the unsorted part of the array and swaps it with the first unsorted element. The process is repeated until the entire array is sorted\n",
    "Selection Sort has a time complexity of O(n^2), where n is the number of elements in the array. While it is not the most efficient sorting algorithm for large datasets, it is easy to understand and implement.\n",
    "\n",
    "N - 1 Rounds"
   ],
   "metadata": {
    "collapsed": false
   },
   "id": "9b8ed7ce6df43d18"
  },
  {
   "cell_type": "code",
   "execution_count": 7,
   "outputs": [
    {
     "data": {
      "text/plain": "[0, 2, 3, 4, 5, 6, 7, 8, 9]"
     },
     "execution_count": 7,
     "metadata": {},
     "output_type": "execute_result"
    }
   ],
   "source": [
    "def selectionsort(l):\n",
    "    for i in range(len(l)-1):\n",
    "        min = i\n",
    "        for j in range(i+1 , len(l)):\n",
    "            if l[j] < l[min]:\n",
    "                min = j\n",
    "        l[i] , l[min] = l[min] , l[i] \n",
    "            \n",
    "# Example usage:\n",
    "my_list = [0,5,4,2,3,6,9,8,7]\n",
    "result = selectionsort(my_list)\n",
    "my_list"
   ],
   "metadata": {
    "collapsed": false,
    "ExecuteTime": {
     "end_time": "2023-12-27T17:14:47.736536100Z",
     "start_time": "2023-12-27T17:14:47.725692800Z"
    }
   },
   "id": "de2d0874ccfdfd4a"
  },
  {
   "cell_type": "code",
   "execution_count": 9,
   "outputs": [
    {
     "data": {
      "text/plain": "[9, 8, 7, 6, 5, 4, 3, 2, 0]"
     },
     "execution_count": 9,
     "metadata": {},
     "output_type": "execute_result"
    }
   ],
   "source": [
    "\"\"\"\n",
    "    Perform selection sort on the given list.\n",
    "\n",
    "    Parameters:\n",
    "    - arr: List to be sorted.\n",
    "\n",
    "    Returns:\n",
    "    - Sorted list.\n",
    "    \"\"\"\n",
    "\n",
    "\n",
    "def selectionsort(l):\n",
    "    for i in range(len(l)-1):\n",
    "        min = i\n",
    "        for j in range(i+1 , len(l)):\n",
    "            if l[j] > l[min]:\n",
    "                min = j\n",
    "        l[i] , l[min] = l[min] , l[i] \n",
    "            \n",
    "# Example usage:\n",
    "my_list = [0,5,4,2,3,6,9,8,7]\n",
    "result = selectionsort(my_list)\n",
    "my_list"
   ],
   "metadata": {
    "collapsed": false,
    "ExecuteTime": {
     "end_time": "2023-12-27T17:17:02.937771200Z",
     "start_time": "2023-12-27T17:17:02.924975700Z"
    }
   },
   "id": "cee25a529510214a"
  },
  {
   "cell_type": "code",
   "execution_count": null,
   "outputs": [],
   "source": [],
   "metadata": {
    "collapsed": false
   },
   "id": "bc852805dc17e1a5"
  }
 ],
 "metadata": {
  "kernelspec": {
   "display_name": "Python 3",
   "language": "python",
   "name": "python3"
  },
  "language_info": {
   "codemirror_mode": {
    "name": "ipython",
    "version": 2
   },
   "file_extension": ".py",
   "mimetype": "text/x-python",
   "name": "python",
   "nbconvert_exporter": "python",
   "pygments_lexer": "ipython2",
   "version": "2.7.6"
  }
 },
 "nbformat": 4,
 "nbformat_minor": 5
}
