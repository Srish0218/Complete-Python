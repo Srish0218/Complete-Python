{
 "cells": [
  {
   "cell_type": "code",
   "execution_count": 58,
   "id": "initial_id",
   "metadata": {
    "collapsed": true,
    "ExecuteTime": {
     "end_time": "2024-01-06T12:47:34.337891300Z",
     "start_time": "2024-01-06T12:47:34.329572700Z"
    }
   },
   "outputs": [],
   "source": [
    "class Node:\n",
    "    def __init__(self, data):\n",
    "        self.data = data\n",
    "        self.next =None\n",
    "# a = Node(13)\n",
    "# b = Node(15)\n",
    "# a.next = b\n",
    "# print(a.data)\n",
    "# print(b.data)\n",
    "# print(a.next.data)\n",
    "# print(a)\n",
    "# print(a.next)\n",
    "# print(b)"
   ]
  },
  {
   "cell_type": "code",
   "execution_count": 59,
   "outputs": [
    {
     "name": "stdout",
     "output_type": "stream",
     "text": [
      "4\n",
      "5\n"
     ]
    }
   ],
   "source": [
    "def Input():\n",
    "    nodes = [int(x) for x in input().split()]\n",
    "    head = None\n",
    "    for cntNode in nodes:\n",
    "        newNode = Node(cntNode)\n",
    "        if head is None:\n",
    "            head = newNode\n",
    "        else:\n",
    "            cnt = head\n",
    "            while cnt.next is not None:\n",
    "                cnt = cnt.next\n",
    "            cnt.next = newNode\n",
    "    return head \n",
    "\n",
    "head = Input()\n",
    "print(head.data)\n",
    "print(head.next.data)"
   ],
   "metadata": {
    "collapsed": false,
    "ExecuteTime": {
     "end_time": "2024-01-06T12:47:42.413927900Z",
     "start_time": "2024-01-06T12:47:35.204336300Z"
    }
   },
   "id": "930bdbf55ed5aa63"
  },
  {
   "cell_type": "code",
   "execution_count": 60,
   "outputs": [
    {
     "name": "stdout",
     "output_type": "stream",
     "text": [
      "4 -> 5 -> 6 -> 1 -> 2 -> 3 -> None\n"
     ]
    }
   ],
   "source": [
    "def printLL(head):\n",
    "  while head is not None:\n",
    "      print(str(head.data), end=\" -> \")\n",
    "      head = head.next\n",
    "  print(\"None\")\n",
    "  return\n",
    "printLL(head)"
   ],
   "metadata": {
    "collapsed": false,
    "ExecuteTime": {
     "end_time": "2024-01-06T12:47:44.396050800Z",
     "start_time": "2024-01-06T12:47:44.382124500Z"
    }
   },
   "id": "29637a2d166ab410"
  },
  {
   "cell_type": "code",
   "execution_count": 69,
   "outputs": [],
   "source": [],
   "metadata": {
    "collapsed": false,
    "ExecuteTime": {
     "end_time": "2024-01-06T12:56:16.640733Z",
     "start_time": "2024-01-06T12:56:16.631218400Z"
    }
   },
   "id": "8c22ce2a262a0495"
  },
  {
   "cell_type": "code",
   "execution_count": 69,
   "outputs": [],
   "source": [],
   "metadata": {
    "collapsed": false,
    "ExecuteTime": {
     "end_time": "2024-01-06T12:56:18.304028800Z",
     "start_time": "2024-01-06T12:56:18.295689500Z"
    }
   },
   "id": "438e32ca00559b71"
  },
  {
   "cell_type": "code",
   "execution_count": null,
   "outputs": [],
   "source": [],
   "metadata": {
    "collapsed": false
   },
   "id": "29ae2f5644f5d2d6"
  }
 ],
 "metadata": {
  "kernelspec": {
   "display_name": "Python 3",
   "language": "python",
   "name": "python3"
  },
  "language_info": {
   "codemirror_mode": {
    "name": "ipython",
    "version": 2
   },
   "file_extension": ".py",
   "mimetype": "text/x-python",
   "name": "python",
   "nbconvert_exporter": "python",
   "pygments_lexer": "ipython2",
   "version": "2.7.6"
  }
 },
 "nbformat": 4,
 "nbformat_minor": 5
}
